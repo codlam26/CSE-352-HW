{
  "cells": [
    {
      "cell_type": "markdown",
      "metadata": {
        "id": "0FyddoM3jF_d"
      },
      "source": [
        "# SBU CSE 352 - HW 1 -  Intelligent Agents: Reflex-Based Agents for the Vacuum-cleaner World\n",
        "\n",
        "---\n",
        "\n",
        "Name: Cody Lam\n",
        "\n",
        "I understand that my submission needs to be my own work: yes\n",
        "\n",
        "## Instructions\n",
        "\n",
        "Total Points: 100\n",
        "\n",
        "Complete this notebook. Use the provided notebook cells and insert additional code and markdown cells as needed. Only use standard packages (numpy, scipy, and built-in packages like random). Submit the completely rendered notebook as a HTML file.\n",
        "\n",
        "## Introduction\n",
        "\n",
        "In this assignment you will implement a simulator environment for an automatic vacuum cleaner robot, a set of different reflex-based agent programs, and perform a comparison study for cleaning a single room. Focus on the __cleaning phase__ which starts when the robot is activated and ends when the last dirty square in the room has been cleaned. Someone else will take care of the agent program needed to navigate back to the charging station after the room is clean.\n",
        "\n",
        "## PEAS description of the cleaning phase\n",
        "\n",
        "__Performance Measure:__ Each action costs 1 energy unit. The performance is measured as the sum of the energy units used to clean the whole room.\n",
        "\n",
        "__Environment:__ A room with $n \\times n$ squares where $n = 5$. Dirt is randomly placed on each square with probability $p = 0.2$. For simplicity, you can assume that the agent knows the size and the layout of the room (i.e., it knows $n$). To start, the agent is placed on a random square.\n",
        "\n",
        "__Actuators:__ The agent can clean the current square (action `suck`) or move to an adjacent square by going `north`, `east`, `south`, or `west`.\n",
        "\n",
        "__Sensors:__ Four bumper sensors, one for north, east, south, and west; a dirt sensor reporting dirt in the current square.  \n",
        "\n",
        "\n",
        "## The agent program for a simple randomized agent\n",
        "\n",
        "The agent program is a function that gets sensor information (the current percepts) as the arguments. The arguments are:\n",
        "\n",
        "* A dictionary with boolean entries for the for bumper sensors `north`, `east`, `west`, `south`. E.g., if the agent is on the north-west corner, `bumpers` will be `{\"north\" : True, \"east\" : False, \"south\" : False, \"west\" : True}`.\n",
        "* The dirt sensor produces a boolean.\n",
        "\n",
        "The agent returns the chosen action as a string.\n",
        "\n",
        "Here is an example implementation for the agent program of a simple randomized agent:  "
      ]
    },
    {
      "cell_type": "code",
      "execution_count": 2,
      "metadata": {
        "id": "2fDxkbCajF_f"
      },
      "outputs": [],
      "source": [
        "import numpy as np\n",
        "\n",
        "actions = [\"north\", \"east\", \"west\", \"south\", \"suck\"]\n",
        "\n",
        "def simple_randomized_agent(bumpers, dirty):\n",
        "    return np.random.choice(actions)"
      ]
    },
    {
      "cell_type": "code",
      "execution_count": null,
      "metadata": {
        "id": "QrLrE1XPjF_g"
      },
      "outputs": [],
      "source": [
        "# define percepts (current location is NW corner and it is dirty)\n",
        "bumpers = {\"north\" : True, \"east\" : False, \"south\" : False, \"west\" : True}\n",
        "dirty = True\n",
        "\n",
        "# call agent program function with percepts and it returns an action\n",
        "simple_randomized_agent(bumpers, dirty)"
      ]
    },
    {
      "cell_type": "markdown",
      "metadata": {
        "id": "GB5AWgpmjF_g"
      },
      "source": [
        "__Note:__ This is not a rational intelligent agent. It ignores its sensors and may bump into a wall repeatedly or not clean a dirty square. You will be asked to implement rational agents below."
      ]
    },
    {
      "cell_type": "markdown",
      "metadata": {
        "id": "I_r7AxrIjF_g"
      },
      "source": [
        "## Simple environment example\n",
        "\n",
        "We implement a simple simulation environment that supplies the agent with its percepts.\n",
        "The simple environment is infinite in size (bumpers are always `False`) and every square is always dirty, even if the agent cleans it. The environment function returns a performance measure which is here the number of cleaned squares (since the room is infinite and all squares are constantly dirty, the agent can never clean the whole room as required in the PEAS description above). The energy budget of the agent is specified as `max_steps`."
      ]
    },
    {
      "cell_type": "code",
      "execution_count": 4,
      "metadata": {
        "id": "OdiZBgUqjF_h"
      },
      "outputs": [],
      "source": [
        "def simple_environment(agent, max_steps, verbose = True):\n",
        "    num_cleaned = 0\n",
        "\n",
        "    for i in range(max_steps):\n",
        "        dirty = True\n",
        "        bumpers = {\"north\" : False, \"south\" : False, \"west\" : False, \"east\" : False}\n",
        "\n",
        "        action = agent(bumpers, dirty)\n",
        "        if (verbose): print(\"step\", i , \"- action:\", action)\n",
        "\n",
        "        if (action == \"suck\"):\n",
        "            num_cleaned = num_cleaned + 1\n",
        "\n",
        "    return num_cleaned"
      ]
    },
    {
      "cell_type": "markdown",
      "metadata": {
        "id": "Tdt7xvQkjF_h"
      },
      "source": [
        "Do one simulation run with a simple randomized agent that has enough energy for 20 steps."
      ]
    },
    {
      "cell_type": "code",
      "execution_count": null,
      "metadata": {
        "id": "YBwp8uTEjF_h",
        "collapsed": true
      },
      "outputs": [],
      "source": [
        "simple_environment(simple_randomized_agent, max_steps = 20)"
      ]
    },
    {
      "cell_type": "markdown",
      "metadata": {
        "id": "G_qQj5brjF_i"
      },
      "source": [
        "# Tasks\n",
        "\n",
        "## General [10 Points]\n",
        "\n",
        "1. Your implementation can use libraries like math, numpy, scipy, but not libraries that implement intelligent agents or complete search algorithms. Try to keep the code simple! In this course, we want to learn about the algorithms and we often do not need to use object-oriented design, for example. If it makes your code more simple objects are okay, but try to keep the code as simple as possible.\n",
        "2. You notebook needs to be formatted professionally.\n",
        "    - Add additional markdown blocks for your description, comments in the code, add tables and use mathplotlib to produce charts where appropriate\n",
        "    - Do not show debugging output or include an excessive amount of output.\n",
        "    - Check that your PDF file is readable. For example, long lines are cut off in the PDF file. You don't have control over page breaks, so do not worry about these.\n",
        "3. Document your code. Add a short discussion of how your implementation works and your design choices.\n",
        "\n",
        "\n",
        "## Task 1: Implement a simulation environment [20 Points]\n",
        "\n",
        "The simple environment above is not very realistic. Your environment simulator needs to follow the PEAS description from above. It needs to:\n",
        "\n",
        "* Initialize the environment by storing the state of each square (clean/dirty) and making some dirty. ([Help with random numbers and arrays in Python](https://github.com/mhahsler/CS7320-AI/blob/master/HOWTOs/random_numbers_and_arrays.ipynb))\n",
        "* Keep track of the agent's position.\n",
        "* Call the agent function repeatedly and provide the agent function with the sensor inputs.  \n",
        "* React to the agent's actions. E.g, by removing dirt from a square or moving the agent around unless there is a wall in the way.\n",
        "* Keep track of the performance measure. That is, track the agent's actions until all dirty squares are clean and count the number of actions it takes the agent to complete the task.\n",
        "\n",
        "The easiest implementation for the environment is to hold an 2-dimensional array to represent if squares are clean or dirty and to call the agent function in a loop until all squares are clean or a predefined number of steps have been reached (i.e., the robot runs out of energy).\n",
        "\n",
        "The simulation environment should be a function like the `simple_environment()` and needs to work with the simple randomized agent program from above. **Use the same environment for all your agent implementations in the tasks below.**\n",
        "\n",
        "*Note on debugging:* Debugging is difficult. Make sure your environment prints enough information when you use `verbose = True`. Also, implementing a function that the environment can use to displays the room with dirt and the current position of the robot at every step is very useful.  "
      ]
    },
    {
      "cell_type": "code",
      "execution_count": null,
      "metadata": {
        "id": "f_a8GJKYjF_i",
        "collapsed": true
      },
      "outputs": [],
      "source": [
        "\"\"\"\n",
        "When creating the environment, it takes in the size the user wants the room to be and the probabilty of a room is going to be clean or dirty.\n",
        "There is also going to be function that will display the environement for debugging, and then there is a function that will simulate the environment.\n",
        "The function will take in the agent that its going to use and what actions that it produced within the environment and keep track of the amount of steps it took to\n",
        "completely clean the room.\n",
        "\"\"\"\n",
        "import random\n",
        "import numpy as np\n",
        "\n",
        "# Initialize an environment storing the state of each square either making it dirty or clean\n",
        "def create_environment(n=5, p=0.2): # Default a 5x5 room\n",
        "  environment = np.random.choice([0, 1], size=(n,n), p = [1 - p, p])\n",
        "  return environment\n",
        "\n",
        "# Used to visually display the environment\n",
        "def display_environment(environment, agent_position):\n",
        "  display = environment.copy().astype(str)\n",
        "  display[display == '1'] = 'D' # Represents dirty areas\n",
        "  display[display == '0'] = '.' # Represents the clean or empty areas\n",
        "  x, y = agent_position\n",
        "  display[x,y] = \"V\" # Vaccuum's position\n",
        "  for row in display:\n",
        "    print(' '.join(row))\n",
        "  print('\\n')\n",
        "\n",
        "# Simulates an environment using the simple agent (n: size of the matrix)\n",
        "def simulation_environment(agent, max_steps=100, n=5, p=0.2, verbose=True, model_based=False):\n",
        "  environment = create_environment(n, p)\n",
        "  agent_position = [random.randint(0 , n-1), random.randint(0, n-1)]\n",
        "  steps = 0 # Keeps track of the amount of actions the vaccum takes\n",
        "  state = None  # Initial state for model-based agent\n",
        "\n",
        "  while np.any(environment == 1) and steps < max_steps:\n",
        "    x, y = agent_position\n",
        "    dirty = environment[x, y] == 1\n",
        "    walls = {\"north\": x == 0, \"south\": x == n-1, \"west\": y == 0, \"east\": y == n-1}\n",
        "\n",
        "    if model_based:\n",
        "      action, state = agent(walls, dirty, state) # Uses Model-Based Agent\n",
        "    else:\n",
        "      action = agent(walls, dirty) # Uses the simple randomized agent or reflex agent\n",
        "\n",
        "    # Debugging\n",
        "    if verbose:\n",
        "      print(f\"Step {steps}: Action = {action}\")\n",
        "      display_environment(environment, agent_position)\n",
        "\n",
        "    # Actions that are performed and how it affects the agent's position\n",
        "    if action == \"suck\" and dirty: # If the action is suck on a dirty square then you clean it\n",
        "      environment[x, y] = 0\n",
        "    elif action == \"north\" and not walls[\"north\"]:\n",
        "      agent_position[0] -= 1\n",
        "    elif action == \"south\" and not walls[\"south\"]:\n",
        "        agent_position[0] += 1\n",
        "    elif action == \"west\" and not walls[\"west\"]:\n",
        "        agent_position[1] -= 1\n",
        "    elif action == \"east\" and not walls[\"east\"]:\n",
        "        agent_position[1] += 1\n",
        "\n",
        "    steps += 1 # Keep track of the performance\n",
        "  return steps\n",
        "\n",
        "steps = simulation_environment(simple_randomized_agent, verbose=True)\n",
        "print(f\"Total Steps: {steps}\")"
      ]
    },
    {
      "cell_type": "markdown",
      "metadata": {
        "id": "gXsl-EjMjF_j"
      },
      "source": [
        "## Task 2:  Implement a simple reflex agent [10 Points]\n",
        "\n",
        "The simple reflex agent randomly walks around but reacts to the bumper sensor by not bumping into the wall and to dirt with sucking. Implement the agent program as a function.\n",
        "\n",
        "_Note:_ Agents cannot directly use variable in the environment. They only gets the percepts as the arguments to the agent function."
      ]
    },
    {
      "cell_type": "code",
      "execution_count": null,
      "metadata": {
        "id": "Q0ddGaBNjF_j",
        "collapsed": true
      },
      "outputs": [],
      "source": [
        "# Your code and description goes here\n",
        "\"\"\"This agent will choose a random direction to go only if it doesn't bump into anything in 'bumpers' and its action will be \"suck\" if the area it lands on is dirty\"\"\"\n",
        "def simple_reflex_agent(bumpers, dirty):\n",
        "  if dirty:\n",
        "    return \"suck\"\n",
        "  else:\n",
        "    # Chooses a random direction that does not lead into a bump\n",
        "    possible_moves = [action for action in [\"north\", \"east\", \"west\", \"south\"] if not bumpers[action]]\n",
        "    if possible_moves: # When it doesn't bump into anything\n",
        "        return random.choice(possible_moves)\n",
        "    else:\n",
        "        return \"suck\"\n",
        "\n",
        "steps = simulation_environment(simple_reflex_agent, verbose=True)\n",
        "print(f\"Total Steps: {steps}\")"
      ]
    },
    {
      "cell_type": "markdown",
      "metadata": {
        "id": "M1q8qmwvjF_j"
      },
      "source": [
        "## Task 3: Implement a model-based reflex agent [20 Points]\n",
        "\n",
        "Model-based agents use a state to keep track of what they have done and perceived so far. Your agent needs to find out where it is located and then keep track of its current location. You also need a set of rules based on the state and the percepts to make sure that the agent will clean the whole room. For example, the agent can move to a corner to determine its location and then it can navigate through the whole room and clean dirty squares.\n",
        "\n",
        "Describe how you define the __agent state__ and how your agent works before implementing it. ([Help with implementing state information on Python](https://github.com/mhahsler/CS7320-AI/blob/master/HOWTOs/store_agent_state_information.ipynb))"
      ]
    },
    {
      "cell_type": "code",
      "execution_count": null,
      "metadata": {
        "id": "daAwOtmTjF_j"
      },
      "outputs": [],
      "source": [
        "# Your short description of the state and your implementation goes here\n",
        "\"\"\"\n",
        "The agent's state keeps track of the position that the vaccuum is currently in and all the positions that it already visited and navigates the grid to\n",
        "ensure all dirty squares are cleans. Once there are no other paths that can be taken and is stuck, then it will use the backtrack stack to backtrack its actions and\n",
        "find an alternative path, and eventually it will clean all the dirty areas in the room.\n",
        "\"\"\""
      ]
    },
    {
      "cell_type": "code",
      "execution_count": null,
      "metadata": {
        "id": "wZqL8CCAjF_j",
        "collapsed": true
      },
      "outputs": [],
      "source": [
        "def model_based_reflex_agent(bumpers, dirty, state):\n",
        "  # Initialize the state\n",
        "  if state is None:\n",
        "    state = {\"position\": [0,0], \"visited\": set(), \"direction\": \"east\", \"backtrack_stack\":[]}\n",
        "\n",
        "  # Add all the positions that the vaccuum visits\n",
        "  x, y = state[\"position\"]\n",
        "  state[\"visited\"].add((x, y))\n",
        "\n",
        "  # If the area is dirty, then its action is \"suck\" and returns its state\n",
        "  if dirty:\n",
        "      return \"suck\", state\n",
        "\n",
        "  # Movement Logic\n",
        "  directions = [\"east\", \"south\", \"west\", \"north\"]\n",
        "  dx_dy = {\"north\": (-1, 0), \"south\": (1, 0), \"west\": (0, -1), \"east\": (0, 1)}\n",
        "\n",
        "  # Explores the new squares\n",
        "  for direction in directions:\n",
        "      if not bumpers[direction]:\n",
        "          nx, ny = x + dx_dy[direction][0], y + dx_dy[direction][1]\n",
        "          if (nx, ny) not in state[\"visited\"]:\n",
        "              state[\"backtrack_stack\"].append((x, y))\n",
        "              state[\"position\"] = [nx, ny]\n",
        "              return direction, state\n",
        "\n",
        "  # When the vaccuum is stuck and all adjacent squares are visited and needs to backtrack\n",
        "  if state[\"backtrack_stack\"]:\n",
        "        backtrack_position = state[\"backtrack_stack\"].pop()\n",
        "        bx, by = backtrack_position\n",
        "        for direction in directions:\n",
        "            if not bumpers[direction]:\n",
        "                nx, ny = x + dx_dy[direction][0], y + dx_dy[direction][1]\n",
        "                if (nx, ny) == (bx, by):\n",
        "                    state[\"position\"] = [nx, ny]\n",
        "                    return direction, state\n",
        "\n",
        "  return \"suck\", state\n",
        "\n",
        "steps = simulation_environment(model_based_reflex_agent, n = 5, verbose=True, model_based=True)\n",
        "print(f\"Total Steps: {steps}\")"
      ]
    },
    {
      "cell_type": "markdown",
      "metadata": {
        "id": "Qi3JK-9hjF_k"
      },
      "source": [
        "## Task 4: Simulation study [30 Points]\n",
        "\n",
        "Compare the performance (the performance measure is defined in the PEAS description above) of the agents using  environments of different size. E.g., $5 \\times 5$, $10 \\times 10$ and\n",
        "$100 \\times 100$. Use 100 random runs for each with 100000 max steps. Present the results using tables and graphs. Discuss the differences between the agents.\n",
        "([Help with charts and tables in Python](https://github.com/mhahsler/CS7320-AI/blob/master/HOWTOs/charts_and_tables.ipynb))"
      ]
    },
    {
      "cell_type": "code",
      "execution_count": 9,
      "metadata": {
        "id": "ccpkRw9VjF_k",
        "colab": {
          "base_uri": "https://localhost:8080/",
          "height": 0
        },
        "outputId": "78bd7214-498f-43af-e149-1cc09d9ea015"
      },
      "outputs": [
        {
          "output_type": "stream",
          "name": "stdout",
          "text": [
            "{'Simple Randomized Agent': {5: 451, 10: 1581, 100: 100000}, 'Simple Reflex Agent': {5: 32, 10: 1138, 100: 100000}, 'Model-Based Reflex Agent': {5: 33, 10: 104, 100: 12018}}\n"
          ]
        }
      ],
      "source": [
        "# Your code goes here\n",
        "import matplotlib.pyplot as plt\n",
        "import pandas as pd\n",
        "\n",
        "grid_sizes = [5, 10, 100] # 5x5, 10x10, 100x100\n",
        "agents = { \"Simple Randomized Agent\" : simple_randomized_agent,\n",
        "          \"Simple Reflex Agent\": simple_reflex_agent,\n",
        "           \"Model-Based Reflex Agent\" :model_based_reflex_agent }\n",
        "\n",
        "# Run a simulation of 100 random runs, 100000 steps for a given agent\n",
        "def run_simulations(agent, grid_sizes, runs=100, max_steps=100000, model_based=False):\n",
        "  results = {}\n",
        "  for size in grid_sizes:\n",
        "    for _ in range(runs):\n",
        "      performance = simulation_environment(agent, n=size, max_steps=max_steps, verbose=False, model_based=model_based)\n",
        "    results[size] = performance\n",
        "  return results\n",
        "\n",
        "all_results = {}\n",
        "\n",
        "# Run the simulations for different grid sizes and agents\n",
        "for agent_name, agent_func in agents.items():\n",
        "  model_based = (\"Model-Based\" in agent_name)\n",
        "  results = run_simulations(agent_func, grid_sizes, model_based=model_based)\n",
        "  all_results[agent_name] = results\n",
        "\n",
        "print(all_results)"
      ]
    },
    {
      "cell_type": "markdown",
      "metadata": {
        "id": "tlAtLmp6jF_k"
      },
      "source": [
        "Fill out the following table with the average performance measure for 100 random runs (you may also create this table with code):\n",
        "\n",
        "| Size     | Randomized Agent | Simple Reflex Agent | Model-based Reflex Agent |\n",
        "|----------|------------------|---------------------|--------------------------|\n",
        "| 5x5     |451|1581|100000|\n",
        "| 10x10   |32|1138|100000|\n",
        "| 100x100 |33|104|12018|\n",
        "\n",
        "Add charts to compare the performance of the different agents."
      ]
    },
    {
      "cell_type": "code",
      "execution_count": 11,
      "metadata": {
        "id": "J361sF6yjF_k",
        "outputId": "b4f13f4c-9a1f-4b1a-ce51-4c3983ab18af",
        "colab": {
          "base_uri": "https://localhost:8080/",
          "height": 718
        }
      },
      "outputs": [
        {
          "output_type": "display_data",
          "data": {
            "text/plain": [
              "<Figure size 1200x800 with 1 Axes>"
            ],
            "image/png": "[encoded data removed]"
          },
          "metadata": {}
        }
      ],
      "source": [
        "# Your graphs and discussion of the results goes here\n",
        "plt.figure(figsize=(12, 8))\n",
        "\n",
        "for agent_name, results in all_results.items():\n",
        "    means = [np.mean(results[size]) for size in grid_sizes]\n",
        "    plt.plot(grid_sizes, means, marker='o', label=agent_name)\n",
        "\n",
        "plt.xlabel('Grid Size')\n",
        "plt.ylabel('Average Amount of Steps')\n",
        "plt.title('Performance Comparison of Agents')\n",
        "plt.legend()\n",
        "plt.grid(True)\n",
        "plt.show()"
      ]
    },
    {
      "cell_type": "markdown",
      "metadata": {
        "id": "LVOWQhVOjF_k"
      },
      "source": [
        "## Task 5: Robustness of the agent implementations [10 Points]\n",
        "\n",
        "Describe how **your agent implementations** will perform\n",
        "\n",
        "* if it is put into a rectangular room with unknown size,\n",
        "* if the cleaning area can have an irregular shape (e.g., a hallway connecting two rooms), or\n",
        "* if the room contains obstacles (i.e., squares that it cannot pass through and trigger the bumper sensors)."
      ]
    },
    {
      "cell_type": "code",
      "execution_count": null,
      "metadata": {
        "id": "1d1TRkpcjF_l"
      },
      "outputs": [],
      "source": [
        "\"\"\"\n",
        "1. If it was placed in a rectangular room with unkown size:\n",
        "  - When using a Simple Randomized Agent it will still function but it is really inefficient because it performs actions randomly and could potentially miss cleaning an area repeatedly\n",
        "  - When using a Reflex Agent will perform slightly better because it will avoid any walls and it will react when it reaches a dirty area and it will clean it. However, it could move\n",
        "    to the same place it already went to, so it lacks the memory to perform systematic cleaning.\n",
        "  - Using a Model-Based Agent would perform the best because it keeps track of the visited squares and can adapt its coverage strategy without knowing the size of the room because of how\n",
        "    it keeps track of the areas it visited.\n",
        "\n",
        "2. If the cleaning area was a irregular shape:\n",
        "  - When using a Simple Randomized Agent would be inefficient because it is exploring the room randomly, so it will take a lot of its time trying to find the path to through a narrow space.\n",
        "  - When using a Reflex Agent would perform a little better because of the bump sensors and it will handle narrow spaces better, but it could miss distant dirty areas after it crosses\n",
        "    the hallway. So it might forget to clean all the dirty areas in one part of the room.\n",
        "  - When using a Model-Based Agent it would perform the best because it can adapt because of its backtracking and how it has memory when exploring the room, so it ensures that it has better\n",
        "    coverage of irregular shapes.\n",
        "\n",
        "3. If the room contained obstacles:\n",
        "  - When using a Simple Randomized Agent it would be inefficient since it would waste a lot of its actions by bumping into the obstacle repeatedly, since it doesn't have a bump sensor.\n",
        "  - When using a Reflex Agent would it will avoid the obstacles efficiently because of its bump sensors and it will be able to detect whether or not it is going into a obstacle, but it will\n",
        "    struggle to cover all areas without any systematic strategy.\n",
        "  - When using a Model-Based Agent it would perform the best because it marks all visited paths and uses backtracking to find alternative routes, so it reduces any redudant actions. Also, because\n",
        "    of its the bump sensor, it will avoid the obstacles and with its systematic strategy it will find alternative routes.\n",
        "\n",
        "Therefore, even though all agents operated in different conditions, the model-based reflex agent will perform the best because of its memory and the ability to remember past actions,\n",
        "and adapt to new layouts.\n",
        "\"\"\""
      ]
    },
    {
      "cell_type": "markdown",
      "source": [
        "\n",
        "\n",
        "---\n",
        "Assignment adapted from [Michael Hahsler](https://github.com/mhahsler/CS7320-AI) under [CC BY-SA](https://creativecommons.org/licenses/by-sa/4.0/deed.en) license.\n"
      ],
      "metadata": {
        "id": "w9DyCkSckcFB"
      }
    }
  ],
  "metadata": {
    "kernelspec": {
      "display_name": "Python 3 (ipykernel)",
      "language": "python",
      "name": "python3"
    },
    "language_info": {
      "codemirror_mode": {
        "name": "ipython",
        "version": 3
      },
      "file_extension": ".py",
      "mimetype": "text/x-python",
      "name": "python",
      "nbconvert_exporter": "python",
      "pygments_lexer": "ipython3",
      "version": "3.10.12"
    },
    "toc-autonumbering": false,
    "colab": {
      "provenance": []
    }
  },
  "nbformat": 4,
  "nbformat_minor": 0
}