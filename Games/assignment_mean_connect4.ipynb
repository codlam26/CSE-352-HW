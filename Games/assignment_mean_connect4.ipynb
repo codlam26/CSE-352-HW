{
  "cells": [
    {
      "cell_type": "markdown",
      "metadata": {
        "id": "WyISr3c6L8cY"
      },
      "source": [
        "# Adversarial Search: Playing \"Mean\" Connect 4\n",
        "\n",
        "\n",
        "## Instructions\n",
        "\n",
        "Name: Cody Lam\n",
        "\n",
        "I understand that my submission needs to be my own work: yes\n",
        "\n",
        "Points: 10\n",
        "\n",
        "\n",
        "---\n",
        "\n",
        "\n",
        "\n",
        "Complete this notebook and submit it (save/print as pdf). The notebook needs to be a complete project report with your implementation, documentation including a short discussion of how your implementation works and your design choices, and experimental results (e.g., tables and charts with simulation results) with a short discussion of what they mean. Use the provided notebook cells and insert additional code and markdown cells as needed.\n",
        "\n",
        "## Introduction\n",
        "\n",
        "You will implement different versions of agents that play \"Mean\" Connect 4:\n",
        "\n",
        "> \"Connect 4 is a two-player connection board game, in which the players choose a color and then take turns dropping colored discs into a seven-column, six-row vertically suspended grid. The pieces fall straight down, occupying the lowest available space within the column. The objective of the game is to be the first to form a horizontal, vertical, or diagonal line of four of one's own discs.\" (see [Connect Four on Wikipedia](https://en.wikipedia.org/wiki/Connect_Four))\n",
        "\n",
        "> **The mean part:** This game has an additional rule. Every time it is a player's turn, the player can decide to instead of playing a new disk, take a bottom row disk of the opponent and place it back in the top of the same column. All disks above the removed disk will fall down one position and the removed one will be placed on top. Note that a player can only move an _opponent's disc_ that is in the _bottom row_ of the board. **Further, you are not allowed to play a mean move if your opponent just played one.** This ensures the game will end at some point. This also may affect the definition of a state, compared with standard Connect 4.\n",
        "\n",
        "If a mean move causes both players to win, the game immediately ends and it is a tie, even if one player has more connect-4s than the other one. If a mean move causes one player to win, then the game also ends and the player with the connect-4 is the winner.\n",
        "\n",
        "Note that normal [Connect-4 has been solved](https://en.wikipedia.org/wiki/Connect_Four#Mathematical_solution)\n",
        "in 1988. A connect-4 solver with a discussion of how to solve different parts of the problem can be found here: https://connect4.gamesolver.org/en/"
      ]
    },
    {
      "cell_type": "markdown",
      "metadata": {
        "id": "zuWbcK6gL8cZ"
      },
      "source": [
        "## Task 1: Defining the Search Problem [1 point]\n",
        "\n",
        "Define the components of the search problem associated with this game:\n",
        "\n",
        "* Initial state\n",
        "* Actions\n",
        "* Transition model\n",
        "* Test for the terminal state\n",
        "* Utility for terminal states"
      ]
    },
    {
      "cell_type": "code",
      "execution_count": null,
      "metadata": {
        "id": "uzLitKOdL8cf"
      },
      "outputs": [],
      "source": [
        "\"\"\"\n",
        "- Intial State: The game will start with an empty 7-column, 6-row grid, Player 1 (1) and Player 2 (-1) takes\n",
        "turns.\n",
        "\n",
        "- Actions: Each player has two types of moves, Drop Move and Mean Move. The Drop Move is the standard move\n",
        "where the player can drop a piece in one of the 7 columns and the piece will fall to the lowest available\n",
        "row in the selected column. The Mean Move is when the opponent has a piece from the bottom row of the column\n",
        "and they can move that piece to the top of the same column. The rest of the column's pieces are shifted down\n",
        "and the move is only allowed if the previous move was not a mean move. Action representation can be (D,c)\n",
        "which means the player used a drop move in column c. (M, c) means it is a mean move in column c.\n",
        "\n",
        "- Transition Model: Drop Move (D, c) the player's disc is placed in the lowest available row in the column c\n",
        "Mean Move (M,c), the opponent's bottom-most disc in column c is removed and placed on the top, a flag is\n",
        "marked that a mean move was just played.\n",
        "\n",
        "- Test for terminal state: The terminal state is reached the following conditions are met:\n",
        "1. One of the two players win, when a player forms a horizonetal, vertical, or diagonal line of four discs\n",
        "2. The board is full, so all the columns are filled and there are no other moves are possible\n",
        "3. There is a tie due to a mean move, so a mean move can cause both players to simultaneously form a line\n",
        "of four discs and causes the game to end in a tie\n",
        "\n",
        "- Utility for terminal states:\n",
        "The utility will assign a value to each terminal state based on the outcome of the game, if player 1 wins\n",
        "then the utility will equal +1 and if player 2 wins then the utility will equal -1. If there is a tie\n",
        "between the players then the utility will be 0\n",
        "\"\"\""
      ]
    },
    {
      "cell_type": "markdown",
      "metadata": {
        "id": "cHDORt8_L8cg"
      },
      "source": [
        "How big is the state space? Give an estimate and explain it.\n",
        "\n",
        "---\n",
        "\n"
      ]
    },
    {
      "cell_type": "code",
      "execution_count": null,
      "metadata": {
        "id": "D_GIsO80L8cg"
      },
      "outputs": [],
      "source": [
        "\"\"\"\n",
        "The board is made of 7 columns x 6 rows which is equal to 42 cells, each cell can be empty, occupied by Player 1,\n",
        "or occupied by Player -1, so the upper bound on state space would be 3^42 but it might be an overestimate because\n",
        "pieces must stack from the bottom and many configurations are unreachable due to move sequences, so the\n",
        "estimation is lower.Also, you have to consider the mean move rule and the game length increases because of this,\n",
        "thus the slightly increasing the estimation as well.\n",
        "\"\"\""
      ]
    },
    {
      "cell_type": "markdown",
      "metadata": {
        "id": "7ci9AS2QL8ch"
      },
      "source": [
        "How big is the game tree that minimax search will go through? Give an estimate\n",
        "and explain it."
      ]
    },
    {
      "cell_type": "code",
      "execution_count": null,
      "metadata": {
        "id": "iTkWu4ZiL8ci"
      },
      "outputs": [],
      "source": [
        "\"\"\"\n",
        "Since the game tree represents all possible sequences of moves from the starting position to a terminal state\n",
        "(win/loss/draw). We can estimate the size by considering the number of nodes which is going to be b^d, where b\n",
        "is the branching factor, the legal moves per turn and d is the depth or the average number of turns before the\n",
        "game ends. In standard connect 4 each player can take up to 7 moves per turn (dropping into any 7 columns), in\n",
        "the beginning of the game, 7 columns are open so B would be around 7, in the middle some columns are full which\n",
        "reduces options to B equaling 5. Finally later into the game it would be around 3, but in Mean connect 4 we have\n",
        "to consider mean moves. Therefore, we can add 1-2 additional choices per turn because of the mean moves so we can\n",
        "estimate a branching factor of 8 to 10. There are also 42 cells, so there are 42 possible moves, but because of\n",
        "mean moves, we can estimate the game to have around 50 moves, so the game tree can possibly have 10^50 nodes in\n",
        "the tree.\n",
        "\"\"\""
      ]
    },
    {
      "cell_type": "markdown",
      "metadata": {
        "id": "u66LNfUEL8ci"
      },
      "source": [
        "## Task 2: Game Environment and Random Agent [3 point]\n",
        "\n",
        "You can use a numpy character array as the board. Note that the following function can create boards of different sizes."
      ]
    },
    {
      "cell_type": "code",
      "execution_count": 1,
      "metadata": {
        "id": "gFoRCZefL8cj",
        "outputId": "1c83d367-014a-46e2-f8c3-54fdf822a570",
        "colab": {
          "base_uri": "https://localhost:8080/",
          "height": 0
        }
      },
      "outputs": [
        {
          "output_type": "stream",
          "name": "stdout",
          "text": [
            "[[0 0 0 0 0 0 0]\n",
            " [0 0 0 0 0 0 0]\n",
            " [0 0 0 0 0 0 0]\n",
            " [0 0 0 0 0 0 0]\n",
            " [0 0 0 0 0 0 0]\n",
            " [0 0 0 0 0 0 0]]\n"
          ]
        }
      ],
      "source": [
        "import numpy as np\n",
        "\n",
        "def empty_board(shape=(6, 7)):\n",
        "    return np.full(shape=shape, fill_value=0)\n",
        "\n",
        "print(empty_board())"
      ]
    },
    {
      "cell_type": "markdown",
      "metadata": {
        "id": "GCCwVya8L8cj"
      },
      "source": [
        "Instead of colors (red and yellow), you can use 1 and -1 to represent the players Max and Min. Make sure that your agent functions all have the from: `agent_type(state, player = 1)`, where board is the current board position and player is the player (1, -1) whose next move it is and who the agent should play."
      ]
    },
    {
      "cell_type": "markdown",
      "metadata": {
        "id": "DtsGKQPsL8ck"
      },
      "source": [
        "Visualization code by Randolph Rankin:"
      ]
    },
    {
      "cell_type": "code",
      "execution_count": 2,
      "metadata": {
        "scrolled": true,
        "id": "dRChZkdZL8ck",
        "outputId": "21df00af-a88e-40cd-8719-498178c2c61b",
        "colab": {
          "base_uri": "https://localhost:8080/",
          "height": 430
        }
      },
      "outputs": [
        {
          "output_type": "display_data",
          "data": {
            "text/plain": [
              "<Figure size 640x480 with 1 Axes>"
            ],
            "image/png": "[encoded data removed]"
          },
          "metadata": {}
        }
      ],
      "source": [
        "import matplotlib.pyplot as plt\n",
        "\n",
        "def visualize(board):\n",
        "    plt.axes()\n",
        "    rectangle=plt.Rectangle((-0.5,len(board)*-1+0.5),len(board[0]),len(board),fc='blue')\n",
        "    circles=[]\n",
        "    for i,row in enumerate(board):\n",
        "        for j,val in enumerate(row):\n",
        "            color='white' if val==0 else 'red' if val==1 else 'yellow'\n",
        "            circles.append(plt.Circle((j,i*-1),0.4,fc=color))\n",
        "\n",
        "    plt.gca().add_patch(rectangle)\n",
        "    for circle in circles:\n",
        "        plt.gca().add_patch(circle)\n",
        "\n",
        "    plt.axis('scaled')\n",
        "    plt.show()\n",
        "\n",
        "board = [[0, 0, 0, 0, 0, 0, 0],\n",
        "         [0, 0, 0, 0, 0, 0, 0],\n",
        "         [0, 0, 0, 0, 0, 0, 0],\n",
        "         [0, 0, 0, 1, 0, 0, 0],\n",
        "         [0, 0, 0, 1, 0, 0, 0],\n",
        "         [0,-1,-1, 1,-1, 0, 0]]\n",
        "\n",
        "visualize(board)"
      ]
    },
    {
      "cell_type": "markdown",
      "metadata": {
        "id": "ZOa_fihRL8ck"
      },
      "source": [
        "Implement helper functions for:\n",
        "\n",
        "* The transition model $result(s, a)$.\n",
        "* The utility function $utility(s)$.\n",
        "* Check for terminal states $terminal(s)$.\n",
        "* A check for available actions in each state $actions(s)$.\n",
        "\n",
        "Make sure that all these functions work with boards of different sizes (number of columns and rows)."
      ]
    },
    {
      "cell_type": "code",
      "execution_count": null,
      "metadata": {
        "id": "8sDMBWFtL8ck"
      },
      "outputs": [],
      "source": [
        "import random\n",
        "\n",
        "# All the available actions which is going to be mean and drop moves\n",
        "def actions(state, last_mean_move, player):\n",
        "  # Used the last_mean_move as a parameter to keep track if it was already used the previous turn\n",
        "  available_moves = []\n",
        "  rows, cols = state.shape\n",
        "\n",
        "  # Action for Drop moves\n",
        "  for col in range(cols):\n",
        "    if state[0, col] == 0:\n",
        "      available_moves.append((\"D\", col))\n",
        "\n",
        "  # Action for Mean moves\n",
        "  if not last_mean_move:\n",
        "    for col in range(cols):\n",
        "      # Ensures its the opponent's piece\n",
        "      if state[-1, col] == -player:\n",
        "        available_moves.append((\"M\", col))\n",
        "\n",
        "  return available_moves\n",
        "\n",
        "# Transition model: Apply a move and return a new board state\n",
        "def result(state, action, player):\n",
        "  new_state = state.copy()\n",
        "  move_type, col = action\n",
        "\n",
        "  # The drop move\n",
        "  if move_type == 'D':\n",
        "    for row in range(len(state) - 1, -1, -1):\n",
        "      # Ensures that its an empty cell\n",
        "      if new_state[row, col] == 0:\n",
        "        new_state[row,col] = player\n",
        "        break\n",
        "\n",
        "  # The mean move\n",
        "  elif move_type == \"M\":\n",
        "    if new_state[-1, col] == 0 or new_state[-1, col] == player:  # Prevent invalid mean moves\n",
        "        return new_state  # Return unchanged board\n",
        "\n",
        "    bottom_piece = new_state[-1, col]  # Save opponent's bottom piece\n",
        "    new_state[1:, col] = new_state[:-1, col]  # Shift all pieces down\n",
        "    new_state[0, col] = 0  # Clear the top most position\n",
        "\n",
        "    # Drop the opponent's piece to the lowest available row\n",
        "    for row in range(len(state) - 1, -1, -1):\n",
        "        if new_state[row, col] == 0:  # Find the first empty spot\n",
        "            new_state[row, col] = bottom_piece\n",
        "            break\n",
        "\n",
        "  return new_state\n",
        "\n",
        "# Checks if the state is of the game is over or not and return the player that won\n",
        "def terminal(state):\n",
        "  rows, cols = state.shape\n",
        "\n",
        "  def check_win(player):\n",
        "    # Checks Horizontal\n",
        "    for r in range(rows):\n",
        "      for c in range(cols - 3):\n",
        "        if np.all(state[r,c:c + 4] == player):\n",
        "          return True\n",
        "\n",
        "    # Checks Vertical\n",
        "    for r in range(rows - 3):\n",
        "      for c in range(cols):\n",
        "        if np.all(state[r:r+4, c] == player):\n",
        "          return True\n",
        "\n",
        "    # Checks diagnols\n",
        "    for r in range(rows - 3):\n",
        "      for c in range(cols - 3):\n",
        "          if np.all(np.array([state[r + i, c + i] == player for i in range(4)])):\n",
        "              return True\n",
        "          if np.all(np.array([state[r + 3 - i, c + i] == player for i in range(4)])):\n",
        "              return True\n",
        "    return False\n",
        "\n",
        "  # Tie\n",
        "  if check_win(1) and check_win(-1):\n",
        "      return True, 0\n",
        "\n",
        "  # Player 1 wins\n",
        "  elif check_win(1):\n",
        "      return True, 1\n",
        "\n",
        "  # Player 2 wins\n",
        "  elif check_win(-1):\n",
        "      return True, -1\n",
        "\n",
        "  # If the Board is full\n",
        "  if np.all(state != 0):\n",
        "      return True, 0\n",
        "\n",
        "  return False, None # Game is still going\n",
        "\n",
        "# Return the results or the score of the game, depending on which player won\n",
        "def utility(state):\n",
        "  is_terminal, winner = terminal(state)\n",
        "  if is_terminal:\n",
        "        if winner == 1:\n",
        "            return 10000  # If player 1 wins\n",
        "        elif winner == -1:\n",
        "            return -10000  # If player 2 wins\n",
        "        else:\n",
        "            return 0  # Tie\n",
        "  return 0\n",
        "\n",
        "# Test to see if the functions work\n",
        "board = empty_board()\n",
        "visualize(board)\n",
        "\n",
        "board = result(board, ('D',3), 1)  # Player 1 drops a disc in column 3\n",
        "visualize(board)\n",
        "board = result(board, ('D',3), -1)  # Player 2 drops a disc in column 3\n",
        "visualize(board)\n",
        "board = result(board, ('D',3), 1)  # Player 1 performs a mean move in column 3\n",
        "visualize(board)\n",
        "board = result(board, ('M',3), -1)  # Player 1 performs a mean move in column 3\n",
        "visualize(board)\n",
        "board = result(board, ('D',3), 1)  # Player 1 performs a mean move in column 3\n",
        "visualize(board)\n",
        "\n",
        "# Check if the game is terminal\n",
        "print(\"Is terminal?\", terminal(board))\n",
        "\n",
        "# Get available actions for Player 2\n",
        "print(\"Available actions:\", actions(board, last_mean_move=True, player=-1))\n"
      ]
    },
    {
      "cell_type": "markdown",
      "metadata": {
        "id": "8T7SYQM4L8cl"
      },
      "source": [
        "Implement an agent that plays randomly. Make sure the agent function receives as the percept the game state and returns a valid action. Use an agent function definition with the following signature (arguments):\n",
        "\n",
        "`def random_player(state, player = None): ...`\n",
        "\n",
        "The argument `player` is used for agents that do not store what side they are playing. The value passed on by the environment should be 1 ot -1 for playerred and yellow, respectively.  See [Experiments section for tic-tac-toe](https://nbviewer.org/github/mhahsler/CS7320-AI/blob/master/Games/tictactoe_and_or_tree_search.ipynb#Experiments) for an example."
      ]
    },
    {
      "cell_type": "code",
      "execution_count": 4,
      "metadata": {
        "id": "g0uUKNKNL8cl"
      },
      "outputs": [],
      "source": [
        "# Added a new parameter so that the player will keep track if the mean move was used or not\n",
        "def random_player(state, player=None, last_mean_move=False):\n",
        "    possible_moves = actions(state, last_mean_move, player)\n",
        "    if not possible_moves:\n",
        "        return None\n",
        "    return random.choice(possible_moves)"
      ]
    },
    {
      "cell_type": "markdown",
      "metadata": {
        "id": "rS3yOFlbL8cl"
      },
      "source": [
        "Let two random agents play against each other 1000 times. Look at the [Experiments section for tic-tac-toe](https://nbviewer.org/github/mhahsler/CS7320-AI/blob/master/Games/tictactoe_and_or_tree_search.ipynb#Experiments) to see how the environment uses the agent functions to play against each other.\n",
        "\n",
        "How often does each player win? Is the result expected?"
      ]
    },
    {
      "cell_type": "code",
      "execution_count": 5,
      "metadata": {
        "tags": [],
        "id": "55tvNH3vL8cl",
        "colab": {
          "base_uri": "https://localhost:8080/",
          "height": 0
        },
        "outputId": "a454f98f-002b-4ab9-e5ce-bd59e691341a"
      },
      "outputs": [
        {
          "output_type": "execute_result",
          "data": {
            "text/plain": [
              "{1: 609, -1: 363, 0: 28}"
            ]
          },
          "metadata": {},
          "execution_count": 5
        }
      ],
      "source": [
        "\"\"\"\n",
        "The 1st player won the most, since they have slight natural advantage, they are making the first move\n",
        "so the first player will have a slight edge in structuring their moves. However, since they are both\n",
        "playing randomly, the difference is not going to be extreme. There are also very few ties because of\n",
        "the mean moves that will prevent frequent drawn games. The results were expected because all the moves\n",
        "are random and the first player will have the advatange because it is going first.\n",
        "\"\"\"\n",
        "def simulate_games(num_games=1000):\n",
        "    results = {1: 0, -1: 0, 0: 0}  # Win counts for Player 1, Player -1, and ties\n",
        "\n",
        "    # Loop through the number of games\n",
        "    for _ in range(num_games):\n",
        "        board = empty_board()\n",
        "        player = 1  # Start with player 1\n",
        "        last_mean_move = False\n",
        "\n",
        "        # Loop until the game is over\n",
        "        while True:\n",
        "            move = random_player(board, player, last_mean_move)\n",
        "            if move is None:\n",
        "                results[0] += 1\n",
        "                break\n",
        "\n",
        "            new_board = result(board, move, player)\n",
        "            if new_board is None:\n",
        "                results[0] += 1\n",
        "                break\n",
        "\n",
        "            board = new_board\n",
        "            last_mean_move = move[0] == \"M\"\n",
        "\n",
        "            # Check if the game is over\n",
        "            is_terminal, winner = terminal(board)\n",
        "            if is_terminal:\n",
        "                results[winner] += 1\n",
        "                break\n",
        "\n",
        "            player *= -1  # Switch players\n",
        "\n",
        "    return results\n",
        "\n",
        "# Run the simulation again with the fixed code\n",
        "num_games = 1000\n",
        "game_results = simulate_games(num_games)\n",
        "\n",
        "# Display the results\n",
        "game_results"
      ]
    },
    {
      "cell_type": "markdown",
      "metadata": {
        "id": "DvzOxRDpL8cm"
      },
      "source": [
        "## Task 3: Minimax Search with Alpha-Beta Pruning [3 points]\n",
        "\n",
        "### Implement the search starting.\n",
        "\n",
        "Implement the search starting from a given state and specifying the player and put it into an agent function.\n",
        "You can use code from the [tic-tac-toe example](https://nbviewer.org/github/mhahsler/CS7320-AI/blob/master/Games/tictactoe_alpha_beta_tree_search.ipynb).\n",
        "\n",
        "__Notes:__\n",
        "* Make sure that all your agent functions have a signature consistent with the random agent above.\n",
        "* The search space for a $6 \\times 7$ board is large. You can experiment with smaller boards (the smallest is $4 \\times 4$) and/or changing the winning rule to connect 3 instead of 4."
      ]
    },
    {
      "cell_type": "code",
      "execution_count": 6,
      "metadata": {
        "id": "GJ2xQLrWL8cm"
      },
      "outputs": [],
      "source": [
        "import numpy as np\n",
        "import math\n",
        "\n",
        "# This is the agent that will use the minimax\n",
        "def minimax_agent(state, player=1, depth=3):\n",
        "\n",
        "    # Used for player 1 and obtains the max value\n",
        "    def max_value(state, alpha, beta, depth):\n",
        "        # Return the utility if the game ended or the depth reaches zero\n",
        "        if terminal(state)[0] or depth == 0:\n",
        "            return utility(state), None\n",
        "\n",
        "        value = -math.inf\n",
        "        best_action = None\n",
        "\n",
        "        # Loops through all the available actions\n",
        "        for action in ordered_actions(state, last_mean_move=False, player=1):\n",
        "            new_state = result(state, action, 1)\n",
        "            new_value, _ = min_value(new_state, alpha, beta, depth - 1)\n",
        "\n",
        "            # Reassign values depending on the new value\n",
        "            if new_value > value:\n",
        "                value = new_value\n",
        "                best_action = action\n",
        "\n",
        "            if value >= beta:\n",
        "                return value, best_action\n",
        "            # use max for alpha\n",
        "            alpha = max(alpha, value)\n",
        "\n",
        "        return value, best_action\n",
        "\n",
        "    # Used for min value and usually used for the opponent\n",
        "    def min_value(state, alpha, beta, depth):\n",
        "        # Return the utility if the game ended or the depth reaches zero\n",
        "        if terminal(state)[0] or depth == 0:\n",
        "            return utility(state), None\n",
        "\n",
        "        value = math.inf\n",
        "        best_action = None\n",
        "\n",
        "        # Loops through all the available actions and uses ordered action to priotize certain moves\n",
        "        for action in ordered_actions(state, last_mean_move=False, player=-1):\n",
        "            new_state = result(state, action, -1)\n",
        "            new_value, _ = max_value(new_state, alpha, beta, depth - 1)\n",
        "\n",
        "            if new_value < value:\n",
        "                value = new_value\n",
        "                best_action = action\n",
        "\n",
        "            if value <= alpha:\n",
        "                return value, best_action\n",
        "\n",
        "            beta = min(beta, value)\n",
        "\n",
        "        return value, best_action\n",
        "\n",
        "    # Depending on the player, it will decide whether to use the max or the min function\n",
        "    if player == 1:\n",
        "        _, action = max_value(state, -math.inf, math.inf, depth)\n",
        "    else:\n",
        "        _, action = min_value(state, -math.inf, math.inf, depth)\n",
        "\n",
        "    # Returns the best action\n",
        "    return action"
      ]
    },
    {
      "cell_type": "markdown",
      "metadata": {
        "id": "XQeK9qFXL8cm"
      },
      "source": [
        "Experiment with some manually created boards (at least 5) to check if the agent spots winning opportunities."
      ]
    },
    {
      "cell_type": "code",
      "execution_count": 11,
      "metadata": {
        "id": "ECcMh7WTL8cm",
        "colab": {
          "base_uri": "https://localhost:8080/",
          "height": 2342
        },
        "outputId": "fbf8a614-42d4-4bdf-a2ce-7e38d8307e23"
      },
      "outputs": [
        {
          "output_type": "stream",
          "name": "stdout",
          "text": [
            "Test Board 1:\n"
          ]
        },
        {
          "output_type": "display_data",
          "data": {
            "text/plain": [
              "<Figure size 640x480 with 1 Axes>"
            ],
            "image/png": "[encoded data removed]"
          },
          "metadata": {}
        },
        {
          "output_type": "stream",
          "name": "stdout",
          "text": [
            "Best Move: ('D', 3)\n",
            "\n",
            "Test Board 2:\n"
          ]
        },
        {
          "output_type": "display_data",
          "data": {
            "text/plain": [
              "<Figure size 640x480 with 1 Axes>"
            ],
            "image/png": "[encoded data removed]"
          },
          "metadata": {}
        },
        {
          "output_type": "stream",
          "name": "stdout",
          "text": [
            "Best Move: ('D', 1)\n",
            "\n",
            "Test Board 3:\n"
          ]
        },
        {
          "output_type": "display_data",
          "data": {
            "text/plain": [
              "<Figure size 640x480 with 1 Axes>"
            ],
            "image/png": "[encoded data removed]"
          },
          "metadata": {}
        },
        {
          "output_type": "stream",
          "name": "stdout",
          "text": [
            "Best Move: ('M', 3)\n",
            "\n",
            "Test Board 4:\n"
          ]
        },
        {
          "output_type": "display_data",
          "data": {
            "text/plain": [
              "<Figure size 640x480 with 1 Axes>"
            ],
            "image/png": "[encoded data removed]"
          },
          "metadata": {}
        },
        {
          "output_type": "stream",
          "name": "stdout",
          "text": [
            "Best Move: ('D', 3)\n",
            "\n",
            "Test Board 5:\n"
          ]
        },
        {
          "output_type": "display_data",
          "data": {
            "text/plain": [
              "<Figure size 640x480 with 1 Axes>"
            ],
            "image/png": "[encoded data removed]"
          },
          "metadata": {}
        },
        {
          "output_type": "stream",
          "name": "stdout",
          "text": [
            "Best Move: ('D', 3)\n",
            "\n"
          ]
        }
      ],
      "source": [
        "test_boards = [\n",
        "    np.array([[0, 0, 0, 0, 0, 0, 0],\n",
        "              [0, 0, 0, 0, 0, 0, 0],\n",
        "              [0, 0, 0, 0, 0, 0, 0],\n",
        "              [0, 0, 1, 1, 1, 0, 0],\n",
        "              [0, 0,-1,-1,-1, 0, 0],\n",
        "              [0, 0, 1,-1, 1, 0, 0]]),\n",
        "\n",
        "    np.array([[0, 0, 0, 0, 0, 0, 0],\n",
        "              [0, 0, 0, 0, 0, 0, 0],\n",
        "              [0, 0, 0, 0, -1, 0, 0],\n",
        "              [0, 0, 0, 0, -1, 0, 0],\n",
        "              [0, 0, 0, 0, -1, 0, 0],\n",
        "              [0, 0, 1, 1, 1, 0, 0]]),\n",
        "\n",
        "    np.array([[0, 0, 0, 0, 0, 0, 0],\n",
        "              [0, 0, 0, 0, 0, 0, 0],\n",
        "              [0, 0, 0, 0, 0, 0, 0],\n",
        "              [0, 0, 0, 0, 0, 0, 0],\n",
        "              [0, 0, 0, 1, 1, 1, 0],\n",
        "              [0, 0, 0,-1,-1,-1, 0]]),\n",
        "\n",
        "    np.array([[0, 0, 0, 0, 0, 0, 0],\n",
        "              [0, 0, 0, 0, 0, 0, 0],\n",
        "              [0, 0, 0, 0, 0, 0, 0],\n",
        "              [0, 0, 0, 0, 0, 0, 0],\n",
        "              [0, 0, 0, 1, 0, 0, 0],\n",
        "              [0, 0, 0, 1, 0, 0, 0]]),\n",
        "\n",
        "    np.array([[0, 0, 0, 0, 0, 0, 0],\n",
        "              [0, 0, 0, 0, 0, 0, 0],\n",
        "              [0, 0, 0, 0, 0, 0, 0],\n",
        "              [0, 0, 0, 0, 0, 0, 0],\n",
        "              [0, 0, 0, 1, 1, 0, 0],\n",
        "              [0, 0, 0,-1,-1, 0, 0]])\n",
        "]\n",
        "\n",
        "for i, board in enumerate(test_boards):\n",
        "    print(f\"Test Board {i+1}:\")\n",
        "    visualize(board)\n",
        "    move = minimax_agent(board, player=1)\n",
        "    print(f\"Best Move: {move}\\n\")"
      ]
    },
    {
      "cell_type": "markdown",
      "metadata": {
        "id": "8ByI_b2VL8cm"
      },
      "source": [
        "How long does it take to make a move? Start with a smaller board with 4 columns and make the board larger by adding columns."
      ]
    },
    {
      "cell_type": "code",
      "execution_count": 12,
      "metadata": {
        "id": "1kG2qLFIL8cm",
        "colab": {
          "base_uri": "https://localhost:8080/",
          "height": 0
        },
        "outputId": "09df65d3-51de-4cb2-fe4b-9b835470dcee"
      },
      "outputs": [
        {
          "output_type": "stream",
          "name": "stdout",
          "text": [
            "Board size: 6x4, Time taken: 0.0510 seconds\n",
            "Board size: 6x5, Time taken: 0.1139 seconds\n",
            "Board size: 6x6, Time taken: 0.2147 seconds\n",
            "Board size: 6x7, Time taken: 0.3981 seconds\n"
          ]
        }
      ],
      "source": [
        "import time\n",
        "import numpy as np\n",
        "import matplotlib.pyplot as plt\n",
        "\n",
        "# Function to measure move time\n",
        "def measure_move_time(board, player=1, depth=4):\n",
        "    start_time = time.time()\n",
        "    move = minimax_agent(board, player=player, depth=depth)\n",
        "    end_time = time.time()\n",
        "    return end_time - start_time\n",
        "\n",
        "# Define board sizes (6 rows, varying columns)\n",
        "board_sizes = [(6, 4), (6, 5), (6, 6), (6, 7)]\n",
        "\n",
        "# Measure move time for each board size\n",
        "move_times = []\n",
        "for rows, cols in board_sizes:\n",
        "    board = empty_board(shape=(rows, cols))\n",
        "    time_taken = measure_move_time(board, player=1, depth=4)\n",
        "    move_times.append(time_taken)\n",
        "    print(f\"Board size: {rows}x{cols}, Time taken: {time_taken:.4f} seconds\")"
      ]
    },
    {
      "cell_type": "markdown",
      "metadata": {
        "id": "XDHTe0LcL8cn"
      },
      "source": [
        "### Move ordering\n",
        "\n",
        "Starting the search with better moves will increase the efficiency of alpha-beta pruning. Describe and implement a simple move ordering strategy. Make a table that shows how the ordering strategies influence the time it takes to make a move."
      ]
    },
    {
      "cell_type": "code",
      "execution_count": 17,
      "metadata": {
        "id": "omeYo7HyL8cn",
        "colab": {
          "base_uri": "https://localhost:8080/",
          "height": 0
        },
        "outputId": "61a40725-2bfb-4621-a8d6-3a53491be839"
      },
      "outputs": [
        {
          "output_type": "stream",
          "name": "stdout",
          "text": [
            "Move Ordering Strategy | Time Taken (seconds)\n",
            "--------------------------------------------\n",
            "Default Ordering          | 0.520931\n",
            "Prioritize Center Moves   | 0.477106\n",
            "Prioritize Odd Columns    | 0.486636\n",
            "Prioritize Center and Edges | 0.492061\n",
            "Prioritize Blocking Moves | 0.477351\n"
          ]
        }
      ],
      "source": [
        "import timeit\n",
        "\n",
        "# Prioritize center columns\n",
        "def prioritize_center_moves(moves, board):\n",
        "    center_columns = [len(board[0]) // 2, len(board[0]) // 2 + 1]  # Center columns\n",
        "    center_moves = [move for move in moves if move[1] in center_columns]\n",
        "    other_moves = [move for move in moves if move not in center_moves]\n",
        "    return center_moves + other_moves\n",
        "\n",
        "# Prioritize odd columns\n",
        "def prioritize_odd_columns(moves, board):\n",
        "    odd_columns = [i for i in range(len(board[0])) if i % 2 != 0]  # Odd columns\n",
        "    odd_moves = [move for move in moves if move[1] in odd_columns]\n",
        "    other_moves = [move for move in moves if move not in odd_moves]\n",
        "    return odd_moves + other_moves\n",
        "\n",
        "# Prioritize center and edge columns\n",
        "def prioritize_center_and_edges_moves(moves, board):\n",
        "    center_columns = [len(board[0]) // 2, len(board[0]) // 2 + 1]  # Center columns\n",
        "    edge_columns = [0, 1, len(board[0]) - 1, len(board[0]) - 2]  # Edge columns\n",
        "    center_moves = [move for move in moves if move[1] in center_columns]\n",
        "    edge_moves = [move for move in moves if move[1] in edge_columns]\n",
        "    other_moves = [move for move in moves if move not in center_moves and move not in edge_moves]\n",
        "    return center_moves + edge_moves + other_moves\n",
        "\n",
        "# Prioritize blocking opponent's winning moves\n",
        "def prioritize_blocking_moves(moves, board, player):\n",
        "    prioritized_moves = []\n",
        "\n",
        "    for move in moves:\n",
        "        new_state = result(board, move, player)\n",
        "        is_terminal, winner = terminal(new_state)\n",
        "        if is_terminal and winner == -player:  # Opponent wins in the next move\n",
        "            prioritized_moves.insert(0, move)  # Blocking move is prioritized\n",
        "        else:\n",
        "            prioritized_moves.append(move)  # Non-blocking move\n",
        "\n",
        "    return prioritized_moves\n",
        "\n",
        "# Default move ordering (no prioritization)\n",
        "def default_ordering(moves, board):\n",
        "    return moves\n",
        "\n",
        "def ordered_actions(state, last_mean_move, player):\n",
        "    valid_moves = actions(state, last_mean_move, player)\n",
        "    # Prioritize center columns\n",
        "    center_cols = [3, 2, 4, 1, 5, 0, 6]  # Order of preference for columns\n",
        "    ordered_moves = sorted(valid_moves, key=lambda x: center_cols.index(x[1]))\n",
        "    return ordered_moves\n",
        "\n",
        "board = np.array([[0, 0, 0, 0, 0, 0, 0],\n",
        "                  [0, 0, 0, 0, 0, 0, 0],\n",
        "                  [0, 0, 0, 0, 0, 0, 0],\n",
        "                  [0, 0, 0, 0, 0, 0, 0],\n",
        "                  [0, 0, 0, 1, 1, 0, 0],\n",
        "                  [0, 0, 0,-1,-1, 0, 0]])\n",
        "\n",
        "# Measure the time is takes to perfr=orm an action based on which ordering function\n",
        "def measure_time(ordering_function, board, player=1, depth=4):\n",
        "    def run_agent():\n",
        "        valid_moves = actions(board, last_mean_move=False, player=player)\n",
        "        ordered_moves = ordering_function(valid_moves, board)\n",
        "        return minimax_agent(board, player=player, depth=depth)\n",
        "\n",
        "    return timeit.timeit(run_agent, number=1)\n",
        "\n",
        "# Different ordering strategies\n",
        "ordering_strategies = [\n",
        "    (\"Default Ordering\", default_ordering),\n",
        "    (\"Prioritize Center Moves\", prioritize_center_moves),\n",
        "    (\"Prioritize Odd Columns\", prioritize_odd_columns),\n",
        "    (\"Prioritize Center and Edges\", prioritize_center_and_edges_moves),\n",
        "    (\"Prioritize Blocking Moves\", lambda moves, board: prioritize_blocking_moves(moves, board, player=1))\n",
        "]\n",
        "\n",
        "times = []\n",
        "for strategy_name, strategy_function in ordering_strategies:\n",
        "    time_taken = measure_time(strategy_function, board)\n",
        "    times.append((strategy_name, time_taken))\n",
        "\n",
        "# Print the results as a table\n",
        "print(\"Move Ordering Strategy | Time Taken (seconds)\")\n",
        "print(\"--------------------------------------------\")\n",
        "for strategy_name, time_taken in times:\n",
        "    print(f\"{strategy_name:25} | {time_taken:.6f}\")"
      ]
    },
    {
      "cell_type": "markdown",
      "metadata": {
        "id": "n_ZJDd9nL8cn"
      },
      "source": [
        "### The first few moves\n",
        "\n",
        "Start with an empty board. This is the worst case scenario for minimax search with alpha-beta pruning since it needs solve all possible games that can be played (minus some pruning) before making the decision. What can you do?"
      ]
    },
    {
      "cell_type": "code",
      "execution_count": null,
      "metadata": {
        "id": "Ip9dbCRgL8cn"
      },
      "outputs": [],
      "source": [
        "board = empty_board()\n",
        "\n",
        "# Simulate the first few moves\n",
        "for turn_number in range(10):  # Simulate 10 turns\n",
        "    player = 1 if turn_number % 2 == 0 else -1\n",
        "    move = minimax_agent(board, player=player, depth=4)\n",
        "    if move is None:\n",
        "        print(\"No valid moves left. Game over.\")\n",
        "        break\n",
        "\n",
        "    # Apply the move to the board\n",
        "    board = result(board, move, player)\n",
        "\n",
        "    # Visualize the board\n",
        "    print(f\"Turn {turn_number + 1}, Player {player} action: {move}\")\n",
        "    visualize(board)\n",
        "\n",
        "    # Check if the game is over\n",
        "    is_terminal, winner = terminal(board)\n",
        "    if is_terminal:\n",
        "        if winner == 0:\n",
        "            print(\"Tie\")\n",
        "        else:\n",
        "            print(f\"Player {winner} wins\")\n",
        "        break"
      ]
    },
    {
      "cell_type": "markdown",
      "source": [
        "# Answer:\n",
        "As mentioned before if you start with an empty board it causes the minimax algorithm with alpha beta pruning to run into the worst case scenario. This is because it has to take account of all possible moves before making a move and there are also no immediate winning or losing moves, so Alpha-Beta pruning cannot effectively reduce the search space.\n",
        "\n",
        "Some ways to optimize is by implementing heuristics or any other form of optimizations to improve our search efficiency. A simple heurisitic will help guide the first few moves instead of solely relying on the minimax, and it will avoid the need for the minimax algorithm to explore the entire game tree."
      ],
      "metadata": {
        "id": "3CdzisZ3Cvs3"
      }
    },
    {
      "cell_type": "markdown",
      "metadata": {
        "id": "Uhk1YRnDL8cn"
      },
      "source": [
        "### Playtime\n",
        "\n",
        "Let the Minimax Search agent play a random agent on a small board. Analyze wins, losses and draws."
      ]
    },
    {
      "cell_type": "code",
      "execution_count": 20,
      "metadata": {
        "id": "Kx1qffv2L8co",
        "colab": {
          "base_uri": "https://localhost:8080/",
          "height": 0
        },
        "outputId": "77c8782d-9091-47f8-f2ad-358714807224"
      },
      "outputs": [
        {
          "output_type": "execute_result",
          "data": {
            "text/plain": [
              "{1: 10, -1: 0, 0: 0}"
            ]
          },
          "metadata": {},
          "execution_count": 20
        }
      ],
      "source": [
        "def play_minimax_vs_random(num_games=10):\n",
        "  results =  {1:0, -1:0, 0:0}\n",
        "\n",
        "  for _ in range(num_games):\n",
        "      board = empty_board(shape=(4, 4))\n",
        "      player = 1  # Minimax starts first\n",
        "      last_mean_move = False\n",
        "\n",
        "      while True:\n",
        "          if player == 1:\n",
        "              move = minimax_agent(board, depth=4, player=player)\n",
        "          else:\n",
        "              move = random_player(board, player, last_mean_move)\n",
        "\n",
        "          if move is None:\n",
        "              break  # No valid moves\n",
        "\n",
        "          board = result(board, move, player)\n",
        "          last_mean_move = move[0] == \"M\"\n",
        "          is_terminal, winner = terminal(board)\n",
        "\n",
        "          if is_terminal:\n",
        "              results[winner] += 1\n",
        "              break\n",
        "\n",
        "          player *= -1  # Switch players\n",
        "\n",
        "  return results\n",
        "\n",
        "num_games = 10\n",
        "game_results = play_minimax_vs_random(num_games)\n",
        "\n",
        "# Display the results\n",
        "game_results"
      ]
    },
    {
      "cell_type": "markdown",
      "source": [
        "# Analysis:\n",
        "You can see that the minimax agent won the most because it finds the best move out of all possible available moves. Unlike the random agent where it randomly chooses a move disregarding whether it is the best move or not."
      ],
      "metadata": {
        "id": "PEKotSHfS8h_"
      }
    },
    {
      "cell_type": "markdown",
      "metadata": {
        "id": "LXE2i58iL8co"
      },
      "source": [
        "## Task 4: Heuristic Alpha-Beta Tree Search [3 points]\n",
        "\n",
        "### Heuristic evaluation function\n",
        "\n",
        "Define and implement a heuristic evaluation function."
      ]
    },
    {
      "cell_type": "code",
      "execution_count": 21,
      "metadata": {
        "id": "qoCQIXw_L8co"
      },
      "outputs": [],
      "source": [
        "\"\"\"\n",
        "The heuristic function should evaluate a board position without having to search for the terminal states, it\n",
        "should assign high scores for winning or near winning positions, and penalize opponent's for their strong\n",
        "positions. There should also be board control and for my implementation I decided to put more control on\n",
        "the center of the board.\n",
        "\"\"\"\n",
        "def heuristic_evaluation(state, player):\n",
        "    rows, cols = state.shape\n",
        "    score = 0\n",
        "\n",
        "    # Helper function to evaluate sequences\n",
        "    def evaluate_sequence(seq, player):\n",
        "        player_count = np.count_nonzero(seq == player)\n",
        "        empty_count = np.count_nonzero(seq == 0)\n",
        "        opponent_count = np.count_nonzero(seq == -player)\n",
        "\n",
        "        # Winning sequence for the player\n",
        "        if player_count == 4:\n",
        "            return 1000\n",
        "        # Almost winning for the player\n",
        "        elif player_count == 3 and empty_count == 1:\n",
        "            return 100\n",
        "        # Potential for the player\n",
        "        elif player_count == 2 and empty_count == 2:\n",
        "            return 10\n",
        "        # Opponent is about to win\n",
        "        elif opponent_count == 3 and empty_count == 1:\n",
        "            return -200\n",
        "        # Opponent has won\n",
        "        elif opponent_count == 4:\n",
        "            return -1000\n",
        "        # Opponent has potential\n",
        "        elif opponent_count == 2 and empty_count == 2:\n",
        "            return -10\n",
        "        return 0\n",
        "\n",
        "    # Evaluate rows\n",
        "    for r in range(rows):\n",
        "        for c in range(cols - 3):\n",
        "            score += evaluate_sequence(state[r, c:c + 4], player)\n",
        "\n",
        "    # Evaluate columns\n",
        "    for r in range(rows - 3):\n",
        "        for c in range(cols):\n",
        "            score += evaluate_sequence(state[r:r + 4, c], player)\n",
        "\n",
        "    # Evaluate diagonals (top-left to bottom-right)\n",
        "    for r in range(rows - 3):\n",
        "        for c in range(cols - 3):\n",
        "            score += evaluate_sequence(np.array([state[r + i, c + i] for i in range(4)]), player)\n",
        "\n",
        "    # Evaluate diagonals (bottom-left to top-right)\n",
        "    for r in range(3, rows):\n",
        "        for c in range(cols - 3):\n",
        "            score += evaluate_sequence(np.array([state[r - i, c + i] for i in range(4)]), player)\n",
        "\n",
        "    # Center control\n",
        "    center_col = cols // 2\n",
        "    center_weight = 5  # Higher weight for the center column\n",
        "    adjacent_weight = 2  # Lower weight for adjacent columns\n",
        "\n",
        "    # Score for the center column\n",
        "    score += np.count_nonzero(state[:, center_col] == player) * center_weight\n",
        "\n",
        "    # Score for adjacent columns\n",
        "    if center_col - 1 >= 0:\n",
        "        score += np.count_nonzero(state[:, center_col - 1] == player) * adjacent_weight\n",
        "    if center_col + 1 < cols:\n",
        "        score += np.count_nonzero(state[:, center_col + 1] == player) * adjacent_weight\n",
        "\n",
        "    return score"
      ]
    },
    {
      "cell_type": "markdown",
      "metadata": {
        "id": "QbIviqR6L8co"
      },
      "source": [
        "### Cutting off search\n",
        "\n",
        "Modify your Minimax Search with Alpha-Beta Pruning to cut off search at a specified depth and use the heuristic evaluation function. Experiment with different cutoff values."
      ]
    },
    {
      "cell_type": "code",
      "execution_count": 22,
      "metadata": {
        "id": "IhKCwDTPL8co"
      },
      "outputs": [],
      "source": [
        "# The modified minimax search where you can imput a cutoff search for the depth, and uses the heuristic function\n",
        "def minimax_with_cutoff(state, depth, alpha, beta, maximizing_player, player, last_mean_move):\n",
        "    is_terminal, winner = terminal(state)\n",
        "    # Use utility function for terminal states\n",
        "    if is_terminal:\n",
        "        return utility(state), None\n",
        "\n",
        "    # Use heuristic for non-terminal states\n",
        "    if depth == 0:\n",
        "        return heuristic_evaluation(state, player), None\n",
        "\n",
        "    valid_moves = actions(state, last_mean_move, player)\n",
        "\n",
        "    # Usually for player 1\n",
        "    if maximizing_player:\n",
        "        max_eval = -float(\"inf\")\n",
        "        best_move = None\n",
        "        for move in valid_moves:\n",
        "            new_state = result(state, move, player)\n",
        "            eval_value, _ = minimax_with_cutoff(new_state, depth - 1, alpha, beta, False, -player, move[0] == 'M')\n",
        "\n",
        "            if eval_value > max_eval:\n",
        "                max_eval = eval_value\n",
        "                best_move = move\n",
        "            alpha = max(alpha, eval_value)\n",
        "\n",
        "            if beta <= alpha:\n",
        "                break\n",
        "        return max_eval, best_move\n",
        "\n",
        "    # For the opponent\n",
        "    else:\n",
        "        min_eval = float(\"inf\")\n",
        "        best_move = None\n",
        "        for move in valid_moves:\n",
        "            new_state = result(state, move, player)\n",
        "            eval_value, _ = minimax_with_cutoff(new_state, depth - 1, alpha, beta, True, -player, move[0] == \"M\")\n",
        "\n",
        "            if eval_value < min_eval:\n",
        "                min_eval = eval_value\n",
        "                best_move = move\n",
        "            beta = min(beta, eval_value)\n",
        "\n",
        "            if beta <= alpha:\n",
        "                break\n",
        "        return min_eval, best_move\n",
        "\n",
        "# The agent that is using the minimax algorithm\n",
        "def heuristic_minimax_agent(state, player=1, depth=4, last_mean_move=False):\n",
        "    valid_moves = actions(state, last_mean_move, player)\n",
        "    best_move = None\n",
        "    best_value = -float(\"inf\") if player == 1 else float(\"inf\")\n",
        "\n",
        "    for move in valid_moves:\n",
        "        new_state = result(state, move, player)\n",
        "        eval_value, _ = minimax_with_cutoff(new_state, depth - 1, -float(\"inf\"), float(\"inf\"), False, -player, move[0] == \"M\")\n",
        "\n",
        "        if player == 1 and eval_value > best_value:\n",
        "            best_value = eval_value\n",
        "            best_move = move\n",
        "\n",
        "        elif player == -1 and eval_value < best_value:\n",
        "            best_value = eval_value\n",
        "            best_move = move\n",
        "\n",
        "    return best_move"
      ]
    },
    {
      "cell_type": "markdown",
      "metadata": {
        "id": "NBpYGvxBL8co"
      },
      "source": [
        "Experiment with the same manually created boards as above to check if the agent spots winning opportunities."
      ]
    },
    {
      "cell_type": "code",
      "execution_count": 23,
      "metadata": {
        "id": "KHqb_K5YL8co",
        "colab": {
          "base_uri": "https://localhost:8080/",
          "height": 2342
        },
        "outputId": "482963b7-ca30-40a1-fcd6-f1462b7865f6"
      },
      "outputs": [
        {
          "output_type": "stream",
          "name": "stdout",
          "text": [
            "Test Board 1:\n"
          ]
        },
        {
          "output_type": "display_data",
          "data": {
            "text/plain": [
              "<Figure size 640x480 with 1 Axes>"
            ],
            "image/png": "[encoded data removed]"
          },
          "metadata": {}
        },
        {
          "output_type": "stream",
          "name": "stdout",
          "text": [
            "Best Move: ('D', 2)\n",
            "\n",
            "Test Board 2:\n"
          ]
        },
        {
          "output_type": "display_data",
          "data": {
            "text/plain": [
              "<Figure size 640x480 with 1 Axes>"
            ],
            "image/png": "[encoded data removed]"
          },
          "metadata": {}
        },
        {
          "output_type": "stream",
          "name": "stdout",
          "text": [
            "Best Move: ('D', 1)\n",
            "\n",
            "Test Board 3:\n"
          ]
        },
        {
          "output_type": "display_data",
          "data": {
            "text/plain": [
              "<Figure size 640x480 with 1 Axes>"
            ],
            "image/png": "[encoded data removed]"
          },
          "metadata": {}
        },
        {
          "output_type": "stream",
          "name": "stdout",
          "text": [
            "Best Move: ('M', 3)\n",
            "\n",
            "Test Board 4:\n"
          ]
        },
        {
          "output_type": "display_data",
          "data": {
            "text/plain": [
              "<Figure size 640x480 with 1 Axes>"
            ],
            "image/png": "[encoded data removed]"
          },
          "metadata": {}
        },
        {
          "output_type": "stream",
          "name": "stdout",
          "text": [
            "Best Move: ('D', 2)\n",
            "\n",
            "Test Board 5:\n"
          ]
        },
        {
          "output_type": "display_data",
          "data": {
            "text/plain": [
              "<Figure size 640x480 with 1 Axes>"
            ],
            "image/png": "[encoded data removed]"
          },
          "metadata": {}
        },
        {
          "output_type": "stream",
          "name": "stdout",
          "text": [
            "Best Move: ('D', 5)\n",
            "\n"
          ]
        }
      ],
      "source": [
        "# Testing on different board states\n",
        "test_boards = [\n",
        "    np.array([[0, 0, 0, 0, 0],\n",
        "              [0, 0, 1, 0, 0],\n",
        "              [0, 0, 1, 1, 0],\n",
        "              [0, -1, 1, 1, 0],\n",
        "              [0, 1,-1,-1,-1]]),\n",
        "\n",
        "    np.array([[0, 0, 0, 0, 0],\n",
        "              [0, 1, 0, 0, 0],\n",
        "              [0, 1, 0, 0, 0],\n",
        "              [-1, 1, 0, 0, 0],\n",
        "              [1,-1,-1,-1, 0]]),\n",
        "\n",
        "    np.array([[0, 0, 0, 0, 0, 0, 0],\n",
        "              [0, 0, 0, 0, 0, 0, 0],\n",
        "              [0, 0, 0, 0, 0, 0, 0],\n",
        "              [0, 0, 0, 0, 0, 0, 0],\n",
        "              [0, 0, 0, 1, 1, 1, 0],\n",
        "              [0, 0, 0,-1,-1,-1, 0]]),\n",
        "\n",
        "    np.array([[0, 0, 0, 0, 0, 0, 0],\n",
        "              [0, 0, 0, 0, 0, 0, 0],\n",
        "              [0, 0, 0, 0, 0, 0, 0],\n",
        "              [0, 0, 0, 0, 0, 0, 0],\n",
        "              [0, 0, 0, 1, 0, 0, 0],\n",
        "              [0, 0, 0, 1, 0, 0, 0]]),\n",
        "\n",
        "    np.array([[0, 0, 0, 0, 0, 0, 0],\n",
        "              [0, 0, 0, 0, 0, 0, 0],\n",
        "              [0, 0, 0, 0, 0, 0, 0],\n",
        "              [0, 0, 0, 0, 0, 0, 0],\n",
        "              [0, 0, 0, 1, 1, 0, 0],\n",
        "              [0, 0, 0,-1,-1, 0, 0]])\n",
        "]\n",
        "\n",
        "for i, board in enumerate(test_boards):\n",
        "    print(f\"Test Board {i+1}:\")\n",
        "    visualize(board)\n",
        "    move = heuristic_minimax_agent(board, player=1, depth=4, last_mean_move=False)\n",
        "    print(f\"Best Move: {move}\\n\")"
      ]
    },
    {
      "cell_type": "markdown",
      "metadata": {
        "id": "ZaBC7W7VL8cp"
      },
      "source": [
        "How long does it take to make a move? Start with a smaller board with 4 columns and make the board larger by adding columns."
      ]
    },
    {
      "cell_type": "code",
      "execution_count": 26,
      "metadata": {
        "id": "yb303vWbL8cp",
        "colab": {
          "base_uri": "https://localhost:8080/",
          "height": 582
        },
        "outputId": "cf8a1a0f-1ae9-4dd9-c7c3-5a9069ed749b"
      },
      "outputs": [
        {
          "output_type": "execute_result",
          "data": {
            "text/plain": [
              "                Time (s)\n",
              "Columns Depth           \n",
              "4       2       0.013852\n",
              "        3       0.042525\n",
              "        4       0.207918\n",
              "        5       0.575663\n",
              "5       2       0.038801\n",
              "        3       0.123688\n",
              "        4       0.603038\n",
              "        5       1.832494\n",
              "6       2       0.055275\n",
              "        3       0.216719\n",
              "        4       1.394580\n",
              "        5       5.852626\n",
              "7       2       0.101039\n",
              "        3       0.415913\n",
              "        4       3.928607\n",
              "        5      10.204502"
            ],
            "text/html": [
              "\n",
              "  <div id=\"df-78d46da7-ccb6-4d14-bc89-b1ab008b85f9\" class=\"colab-df-container\">\n",
              "    <div>\n",
              "<style scoped>\n",
              "    .dataframe tbody tr th:only-of-type {\n",
              "        vertical-align: middle;\n",
              "    }\n",
              "\n",
              "    .dataframe tbody tr th {\n",
              "        vertical-align: top;\n",
              "    }\n",
              "\n",
              "    .dataframe thead th {\n",
              "        text-align: right;\n",
              "    }\n",
              "</style>\n",
              "<table border=\"1\" class=\"dataframe\">\n",
              "  <thead>\n",
              "    <tr style=\"text-align: right;\">\n",
              "      <th></th>\n",
              "      <th></th>\n",
              "      <th>Time (s)</th>\n",
              "    </tr>\n",
              "    <tr>\n",
              "      <th>Columns</th>\n",
              "      <th>Depth</th>\n",
              "      <th></th>\n",
              "    </tr>\n",
              "  </thead>\n",
              "  <tbody>\n",
              "    <tr>\n",
              "      <th rowspan=\"4\" valign=\"top\">4</th>\n",
              "      <th>2</th>\n",
              "      <td>0.013852</td>\n",
              "    </tr>\n",
              "    <tr>\n",
              "      <th>3</th>\n",
              "      <td>0.042525</td>\n",
              "    </tr>\n",
              "    <tr>\n",
              "      <th>4</th>\n",
              "      <td>0.207918</td>\n",
              "    </tr>\n",
              "    <tr>\n",
              "      <th>5</th>\n",
              "      <td>0.575663</td>\n",
              "    </tr>\n",
              "    <tr>\n",
              "      <th rowspan=\"4\" valign=\"top\">5</th>\n",
              "      <th>2</th>\n",
              "      <td>0.038801</td>\n",
              "    </tr>\n",
              "    <tr>\n",
              "      <th>3</th>\n",
              "      <td>0.123688</td>\n",
              "    </tr>\n",
              "    <tr>\n",
              "      <th>4</th>\n",
              "      <td>0.603038</td>\n",
              "    </tr>\n",
              "    <tr>\n",
              "      <th>5</th>\n",
              "      <td>1.832494</td>\n",
              "    </tr>\n",
              "    <tr>\n",
              "      <th rowspan=\"4\" valign=\"top\">6</th>\n",
              "      <th>2</th>\n",
              "      <td>0.055275</td>\n",
              "    </tr>\n",
              "    <tr>\n",
              "      <th>3</th>\n",
              "      <td>0.216719</td>\n",
              "    </tr>\n",
              "    <tr>\n",
              "      <th>4</th>\n",
              "      <td>1.394580</td>\n",
              "    </tr>\n",
              "    <tr>\n",
              "      <th>5</th>\n",
              "      <td>5.852626</td>\n",
              "    </tr>\n",
              "    <tr>\n",
              "      <th rowspan=\"4\" valign=\"top\">7</th>\n",
              "      <th>2</th>\n",
              "      <td>0.101039</td>\n",
              "    </tr>\n",
              "    <tr>\n",
              "      <th>3</th>\n",
              "      <td>0.415913</td>\n",
              "    </tr>\n",
              "    <tr>\n",
              "      <th>4</th>\n",
              "      <td>3.928607</td>\n",
              "    </tr>\n",
              "    <tr>\n",
              "      <th>5</th>\n",
              "      <td>10.204502</td>\n",
              "    </tr>\n",
              "  </tbody>\n",
              "</table>\n",
              "</div>\n",
              "    <div class=\"colab-df-buttons\">\n",
              "\n",
              "  <div class=\"colab-df-container\">\n",
              "    <button class=\"colab-df-convert\" onclick=\"convertToInteractive('df-78d46da7-ccb6-4d14-bc89-b1ab008b85f9')\"\n",
              "            title=\"Convert this dataframe to an interactive table.\"\n",
              "            style=\"display:none;\">\n",
              "\n",
              "  <svg xmlns=\"http://www.w3.org/2000/svg\" height=\"24px\" viewBox=\"0 -960 960 960\">\n",
              "    <path d=\"M120-120v-720h720v720H120Zm60-500h600v-160H180v160Zm220 220h160v-160H400v160Zm0 220h160v-160H400v160ZM180-400h160v-160H180v160Zm440 0h160v-160H620v160ZM180-180h160v-160H180v160Zm440 0h160v-160H620v160Z\"/>\n",
              "  </svg>\n",
              "    </button>\n",
              "\n",
              "  <style>\n",
              "    .colab-df-container {\n",
              "      display:flex;\n",
              "      gap: 12px;\n",
              "    }\n",
              "\n",
              "    .colab-df-convert {\n",
              "      background-color: #E8F0FE;\n",
              "      border: none;\n",
              "      border-radius: 50%;\n",
              "      cursor: pointer;\n",
              "      display: none;\n",
              "      fill: #1967D2;\n",
              "      height: 32px;\n",
              "      padding: 0 0 0 0;\n",
              "      width: 32px;\n",
              "    }\n",
              "\n",
              "    .colab-df-convert:hover {\n",
              "      background-color: #E2EBFA;\n",
              "      box-shadow: 0px 1px 2px rgba(60, 64, 67, 0.3), 0px 1px 3px 1px rgba(60, 64, 67, 0.15);\n",
              "      fill: #174EA6;\n",
              "    }\n",
              "\n",
              "    .colab-df-buttons div {\n",
              "      margin-bottom: 4px;\n",
              "    }\n",
              "\n",
              "    [theme=dark] .colab-df-convert {\n",
              "      background-color: #3B4455;\n",
              "      fill: #D2E3FC;\n",
              "    }\n",
              "\n",
              "    [theme=dark] .colab-df-convert:hover {\n",
              "      background-color: #434B5C;\n",
              "      box-shadow: 0px 1px 3px 1px rgba(0, 0, 0, 0.15);\n",
              "      filter: drop-shadow(0px 1px 2px rgba(0, 0, 0, 0.3));\n",
              "      fill: #FFFFFF;\n",
              "    }\n",
              "  </style>\n",
              "\n",
              "    <script>\n",
              "      const buttonEl =\n",
              "        document.querySelector('#df-78d46da7-ccb6-4d14-bc89-b1ab008b85f9 button.colab-df-convert');\n",
              "      buttonEl.style.display =\n",
              "        google.colab.kernel.accessAllowed ? 'block' : 'none';\n",
              "\n",
              "      async function convertToInteractive(key) {\n",
              "        const element = document.querySelector('#df-78d46da7-ccb6-4d14-bc89-b1ab008b85f9');\n",
              "        const dataTable =\n",
              "          await google.colab.kernel.invokeFunction('convertToInteractive',\n",
              "                                                    [key], {});\n",
              "        if (!dataTable) return;\n",
              "\n",
              "        const docLinkHtml = 'Like what you see? Visit the ' +\n",
              "          '<a target=\"_blank\" href=https://colab.research.google.com/notebooks/data_table.ipynb>data table notebook</a>'\n",
              "          + ' to learn more about interactive tables.';\n",
              "        element.innerHTML = '';\n",
              "        dataTable['output_type'] = 'display_data';\n",
              "        await google.colab.output.renderOutput(dataTable, element);\n",
              "        const docLink = document.createElement('div');\n",
              "        docLink.innerHTML = docLinkHtml;\n",
              "        element.appendChild(docLink);\n",
              "      }\n",
              "    </script>\n",
              "  </div>\n",
              "\n",
              "\n",
              "<div id=\"df-c97d52aa-85d6-4652-af13-085572b43068\">\n",
              "  <button class=\"colab-df-quickchart\" onclick=\"quickchart('df-c97d52aa-85d6-4652-af13-085572b43068')\"\n",
              "            title=\"Suggest charts\"\n",
              "            style=\"display:none;\">\n",
              "\n",
              "<svg xmlns=\"http://www.w3.org/2000/svg\" height=\"24px\"viewBox=\"0 0 24 24\"\n",
              "     width=\"24px\">\n",
              "    <g>\n",
              "        <path d=\"M19 3H5c-1.1 0-2 .9-2 2v14c0 1.1.9 2 2 2h14c1.1 0 2-.9 2-2V5c0-1.1-.9-2-2-2zM9 17H7v-7h2v7zm4 0h-2V7h2v10zm4 0h-2v-4h2v4z\"/>\n",
              "    </g>\n",
              "</svg>\n",
              "  </button>\n",
              "\n",
              "<style>\n",
              "  .colab-df-quickchart {\n",
              "      --bg-color: #E8F0FE;\n",
              "      --fill-color: #1967D2;\n",
              "      --hover-bg-color: #E2EBFA;\n",
              "      --hover-fill-color: #174EA6;\n",
              "      --disabled-fill-color: #AAA;\n",
              "      --disabled-bg-color: #DDD;\n",
              "  }\n",
              "\n",
              "  [theme=dark] .colab-df-quickchart {\n",
              "      --bg-color: #3B4455;\n",
              "      --fill-color: #D2E3FC;\n",
              "      --hover-bg-color: #434B5C;\n",
              "      --hover-fill-color: #FFFFFF;\n",
              "      --disabled-bg-color: #3B4455;\n",
              "      --disabled-fill-color: #666;\n",
              "  }\n",
              "\n",
              "  .colab-df-quickchart {\n",
              "    background-color: var(--bg-color);\n",
              "    border: none;\n",
              "    border-radius: 50%;\n",
              "    cursor: pointer;\n",
              "    display: none;\n",
              "    fill: var(--fill-color);\n",
              "    height: 32px;\n",
              "    padding: 0;\n",
              "    width: 32px;\n",
              "  }\n",
              "\n",
              "  .colab-df-quickchart:hover {\n",
              "    background-color: var(--hover-bg-color);\n",
              "    box-shadow: 0 1px 2px rgba(60, 64, 67, 0.3), 0 1px 3px 1px rgba(60, 64, 67, 0.15);\n",
              "    fill: var(--button-hover-fill-color);\n",
              "  }\n",
              "\n",
              "  .colab-df-quickchart-complete:disabled,\n",
              "  .colab-df-quickchart-complete:disabled:hover {\n",
              "    background-color: var(--disabled-bg-color);\n",
              "    fill: var(--disabled-fill-color);\n",
              "    box-shadow: none;\n",
              "  }\n",
              "\n",
              "  .colab-df-spinner {\n",
              "    border: 2px solid var(--fill-color);\n",
              "    border-color: transparent;\n",
              "    border-bottom-color: var(--fill-color);\n",
              "    animation:\n",
              "      spin 1s steps(1) infinite;\n",
              "  }\n",
              "\n",
              "  @keyframes spin {\n",
              "    0% {\n",
              "      border-color: transparent;\n",
              "      border-bottom-color: var(--fill-color);\n",
              "      border-left-color: var(--fill-color);\n",
              "    }\n",
              "    20% {\n",
              "      border-color: transparent;\n",
              "      border-left-color: var(--fill-color);\n",
              "      border-top-color: var(--fill-color);\n",
              "    }\n",
              "    30% {\n",
              "      border-color: transparent;\n",
              "      border-left-color: var(--fill-color);\n",
              "      border-top-color: var(--fill-color);\n",
              "      border-right-color: var(--fill-color);\n",
              "    }\n",
              "    40% {\n",
              "      border-color: transparent;\n",
              "      border-right-color: var(--fill-color);\n",
              "      border-top-color: var(--fill-color);\n",
              "    }\n",
              "    60% {\n",
              "      border-color: transparent;\n",
              "      border-right-color: var(--fill-color);\n",
              "    }\n",
              "    80% {\n",
              "      border-color: transparent;\n",
              "      border-right-color: var(--fill-color);\n",
              "      border-bottom-color: var(--fill-color);\n",
              "    }\n",
              "    90% {\n",
              "      border-color: transparent;\n",
              "      border-bottom-color: var(--fill-color);\n",
              "    }\n",
              "  }\n",
              "</style>\n",
              "\n",
              "  <script>\n",
              "    async function quickchart(key) {\n",
              "      const quickchartButtonEl =\n",
              "        document.querySelector('#' + key + ' button');\n",
              "      quickchartButtonEl.disabled = true;  // To prevent multiple clicks.\n",
              "      quickchartButtonEl.classList.add('colab-df-spinner');\n",
              "      try {\n",
              "        const charts = await google.colab.kernel.invokeFunction(\n",
              "            'suggestCharts', [key], {});\n",
              "      } catch (error) {\n",
              "        console.error('Error during call to suggestCharts:', error);\n",
              "      }\n",
              "      quickchartButtonEl.classList.remove('colab-df-spinner');\n",
              "      quickchartButtonEl.classList.add('colab-df-quickchart-complete');\n",
              "    }\n",
              "    (() => {\n",
              "      let quickchartButtonEl =\n",
              "        document.querySelector('#df-c97d52aa-85d6-4652-af13-085572b43068 button');\n",
              "      quickchartButtonEl.style.display =\n",
              "        google.colab.kernel.accessAllowed ? 'block' : 'none';\n",
              "    })();\n",
              "  </script>\n",
              "</div>\n",
              "\n",
              "  <div id=\"id_9e3a9d8b-e601-4eab-a30f-26ea6621c5aa\">\n",
              "    <style>\n",
              "      .colab-df-generate {\n",
              "        background-color: #E8F0FE;\n",
              "        border: none;\n",
              "        border-radius: 50%;\n",
              "        cursor: pointer;\n",
              "        display: none;\n",
              "        fill: #1967D2;\n",
              "        height: 32px;\n",
              "        padding: 0 0 0 0;\n",
              "        width: 32px;\n",
              "      }\n",
              "\n",
              "      .colab-df-generate:hover {\n",
              "        background-color: #E2EBFA;\n",
              "        box-shadow: 0px 1px 2px rgba(60, 64, 67, 0.3), 0px 1px 3px 1px rgba(60, 64, 67, 0.15);\n",
              "        fill: #174EA6;\n",
              "      }\n",
              "\n",
              "      [theme=dark] .colab-df-generate {\n",
              "        background-color: #3B4455;\n",
              "        fill: #D2E3FC;\n",
              "      }\n",
              "\n",
              "      [theme=dark] .colab-df-generate:hover {\n",
              "        background-color: #434B5C;\n",
              "        box-shadow: 0px 1px 3px 1px rgba(0, 0, 0, 0.15);\n",
              "        filter: drop-shadow(0px 1px 2px rgba(0, 0, 0, 0.3));\n",
              "        fill: #FFFFFF;\n",
              "      }\n",
              "    </style>\n",
              "    <button class=\"colab-df-generate\" onclick=\"generateWithVariable('df')\"\n",
              "            title=\"Generate code using this dataframe.\"\n",
              "            style=\"display:none;\">\n",
              "\n",
              "  <svg xmlns=\"http://www.w3.org/2000/svg\" height=\"24px\"viewBox=\"0 0 24 24\"\n",
              "       width=\"24px\">\n",
              "    <path d=\"M7,19H8.4L18.45,9,17,7.55,7,17.6ZM5,21V16.75L18.45,3.32a2,2,0,0,1,2.83,0l1.4,1.43a1.91,1.91,0,0,1,.58,1.4,1.91,1.91,0,0,1-.58,1.4L9.25,21ZM18.45,9,17,7.55Zm-12,3A5.31,5.31,0,0,0,4.9,8.1,5.31,5.31,0,0,0,1,6.5,5.31,5.31,0,0,0,4.9,4.9,5.31,5.31,0,0,0,6.5,1,5.31,5.31,0,0,0,8.1,4.9,5.31,5.31,0,0,0,12,6.5,5.46,5.46,0,0,0,6.5,12Z\"/>\n",
              "  </svg>\n",
              "    </button>\n",
              "    <script>\n",
              "      (() => {\n",
              "      const buttonEl =\n",
              "        document.querySelector('#id_9e3a9d8b-e601-4eab-a30f-26ea6621c5aa button.colab-df-generate');\n",
              "      buttonEl.style.display =\n",
              "        google.colab.kernel.accessAllowed ? 'block' : 'none';\n",
              "\n",
              "      buttonEl.onclick = () => {\n",
              "        google.colab.notebook.generateWithVariable('df');\n",
              "      }\n",
              "      })();\n",
              "    </script>\n",
              "  </div>\n",
              "\n",
              "    </div>\n",
              "  </div>\n"
            ],
            "application/vnd.google.colaboratory.intrinsic+json": {
              "type": "dataframe",
              "variable_name": "df",
              "summary": "{\n  \"name\": \"df\",\n  \"rows\": 16,\n  \"fields\": [\n    {\n      \"column\": \"Time (s)\",\n      \"properties\": {\n        \"dtype\": \"number\",\n        \"std\": 2.8181442680572277,\n        \"min\": 0.01385188102722168,\n        \"max\": 10.20450210571289,\n        \"num_unique_values\": 16,\n        \"samples\": [\n          0.01385188102722168,\n          0.042525291442871094,\n          0.123687744140625\n        ],\n        \"semantic_type\": \"\",\n        \"description\": \"\"\n      }\n    }\n  ]\n}"
            }
          },
          "metadata": {},
          "execution_count": 26
        }
      ],
      "source": [
        "import pandas as pd\n",
        "import time\n",
        "\n",
        "\"\"\"\n",
        "As you can see in the table below, as the depth increases and the amount of columns\n",
        "increase, the time it takes to make a move increases because it is trying find more\n",
        "possible moves when the depth is higher.\n",
        "\"\"\"\n",
        "board_sizes = [4, 5, 6, 7]\n",
        "depths = [2, 3, 4, 5]\n",
        "\n",
        "timing_results_cutoff = {}\n",
        "\n",
        "# Go through all the column sizes\n",
        "for cols in board_sizes:\n",
        "    # Go through all the depths\n",
        "    for depth in depths:\n",
        "        # Go through the board and find the time it makes one move\n",
        "        test_board = empty_board(shape=(6, cols))\n",
        "        start_time = time.time()\n",
        "        heuristic_minimax_agent(test_board, player=1, depth=depth, last_mean_move=False)\n",
        "        end_time = time.time()\n",
        "\n",
        "        timing_results_cutoff[(cols, depth)] = end_time - start_time\n",
        "\n",
        "# Display it as a dataframe\n",
        "df = pd.DataFrame.from_dict(timing_results_cutoff, orient=\"index\", columns=[\"Time (s)\"])\n",
        "df.index = pd.MultiIndex.from_tuples(df.index, names=[\"Columns\", \"Depth\"])\n",
        "df"
      ]
    },
    {
      "cell_type": "markdown",
      "metadata": {
        "id": "bokyrXrkL8cp"
      },
      "source": [
        "### Playtime\n",
        "\n",
        "Let two heuristic search agents (different cutoff depth, different heuristic evaluation function) compete against each other on a reasonably sized board. Since there is no randomness, you only need to let them play once."
      ]
    },
    {
      "cell_type": "code",
      "execution_count": 25,
      "metadata": {
        "id": "hUILjLbdL8cp",
        "colab": {
          "base_uri": "https://localhost:8080/",
          "height": 0
        },
        "outputId": "36029463-1933-410b-c7e4-3c45886ea976"
      },
      "outputs": [
        {
          "output_type": "stream",
          "name": "stdout",
          "text": [
            "Heuristic Agent 1 (depth 4) vs Heuristic Agent 2 (depth 3) -> Winner: Agent 1\n"
          ]
        }
      ],
      "source": [
        "# Play two heuristic agents against each other\n",
        "def heuristic_vs_heuristic(depth1, depth2):\n",
        "  board = empty_board(shape=(6,7))\n",
        "  player = 1\n",
        "  last_mean_move = False\n",
        "\n",
        "  while True:\n",
        "    if player == 1:\n",
        "      move = heuristic_minimax_agent(board, player=1, depth=depth1, last_mean_move=last_mean_move)\n",
        "    else:\n",
        "      move = heuristic_minimax_agent(board, player=-1, depth=depth2, last_mean_move=last_mean_move)\n",
        "\n",
        "    # If there are no moves then stop the game\n",
        "    if move is None:\n",
        "      break\n",
        "    board = result(board, move, player)\n",
        "    last_mean_move = move[0] == \"M\"\n",
        "    is_terminal, winner = terminal(board)\n",
        "\n",
        "    # Once the game ends then you return the winner of the game\n",
        "    if is_terminal:\n",
        "      return winner\n",
        "\n",
        "    player *= -1\n",
        "\n",
        "winner = heuristic_vs_heuristic(4, 3)\n",
        "print(f\"Heuristic Agent 1 (depth 4) vs Heuristic Agent 2 (depth 3) -> Winner: {'Agent 1' if winner == 1 else 'Agent 2' if winner == -1 else 'Tie'}\")"
      ]
    },
    {
      "cell_type": "markdown",
      "metadata": {
        "id": "UFhDH9M_L8cp"
      },
      "source": [
        "---\n",
        "Assignment adapted from [Michael Hahsler](https://github.com/mhahsler/CS7320-AI) under [CC BY-SA](https://creativecommons.org/licenses/by-sa/4.0/deed.en) license.\n"
      ]
    }
  ],
  "metadata": {
    "kernelspec": {
      "display_name": "Python 3 (ipykernel)",
      "language": "python",
      "name": "python3"
    },
    "language_info": {
      "codemirror_mode": {
        "name": "ipython",
        "version": 3
      },
      "file_extension": ".py",
      "mimetype": "text/x-python",
      "name": "python",
      "nbconvert_exporter": "python",
      "pygments_lexer": "ipython3",
      "version": "3.9.5"
    },
    "colab": {
      "provenance": []
    }
  },
  "nbformat": 4,
  "nbformat_minor": 0
}