{
  "cells": [
    {
      "cell_type": "markdown",
      "metadata": {
        "id": "-rnkCP9R2o_Z"
      },
      "source": [
        "# Introduction\n",
        "\n",
        "Name: Cody Lam\n",
        "\n",
        "I understand that my submission needs to be my own work: C.L.\n",
        "\n",
        "I understand that ChatGPT / Copilot / other AI tools are not allowed: C.L.\n",
        "\n",
        "Total Points: **75**\n",
        "\n",
        "Complete this notebook and submit it (save/print as pdf). Make sure all output is correct in the pdf before submitting (it sometimes gets cut off). The notebook needs to be a complete project report with your implementation, documentation including a short discussion of how your implementation works and your design choices, and experimental results (e.g., tables and charts with simulation results) with a short discussion of what they mean. Use the provided notebook cells and insert additional code and markdown cells as needed."
      ]
    },
    {
      "cell_type": "markdown",
      "metadata": {
        "id": "wdtvm8lB2o_b"
      },
      "source": [
        "## Z3 and Z3py resources\n",
        "\n",
        "For this problem you will be solving constraint satisfaction and logic problems using the Z3 SMT solver via the z3py python library.\n",
        "\n",
        "The demo code using z3py we went over in class is here: [link](https://drive.google.com/drive/folders/16HQXiwdcaman1IpC7H6vSJ71QQQ-aL2z?usp=sharing)\n",
        "\n",
        "Online help for z3py is here: [link](https://ericpony.github.io/z3py-tutorial/guide-examples.htm)"
      ]
    },
    {
      "cell_type": "markdown",
      "metadata": {
        "id": "F6mYrFaM2o_b"
      },
      "source": [
        "## Installation\n",
        "\n",
        "We first install to get the z3solver library using pip and test that works."
      ]
    },
    {
      "cell_type": "code",
      "source": [
        "!pip install z3-solver"
      ],
      "metadata": {
        "id": "EoLs1AWw38Tj",
        "outputId": "aa5578c9-7cd4-4f26-f17b-309dbd097b4e",
        "colab": {
          "base_uri": "https://localhost:8080/"
        }
      },
      "execution_count": 2,
      "outputs": [
        {
          "output_type": "stream",
          "name": "stdout",
          "text": [
            "Requirement already satisfied: z3-solver in /usr/local/lib/python3.11/dist-packages (4.14.1.0)\n"
          ]
        }
      ]
    },
    {
      "cell_type": "code",
      "execution_count": 3,
      "metadata": {
        "id": "xnQTztNX2o_c",
        "outputId": "060b2465-e04d-4fb7-9af1-c7de3aeaa476",
        "colab": {
          "base_uri": "https://localhost:8080/"
        }
      },
      "outputs": [
        {
          "output_type": "stream",
          "name": "stdout",
          "text": [
            "[y = 0, x = 7]\n"
          ]
        }
      ],
      "source": [
        "# Run the first example from the z3py guide as a test: https://ericpony.github.io/z3py-tutorial/guide-examples.htm\n",
        "from z3 import *\n",
        "\n",
        "x = Int('x')\n",
        "y = Int('y')\n",
        "solve(x > 2, y < 10, x + 2*y == 7)"
      ]
    },
    {
      "cell_type": "markdown",
      "source": [
        "# Sudoku as a constraint satisfaction problem (CSP)\n",
        "\n",
        "Sudoku is a popular number-placement puzzle that originated in France in the end of the 19th century.  Modern Sudoku was likely invented by Howard Garns from Connersville, Indiana and was first published in 1979 under the name *Number Place*. The objective of the puzzle is to place numbers 1-9 on a 9$\\times$9 grid, such that each number occurs only once in every row, every column, and every of the nine 3$\\times$3 sub-grids that compose the main grid.\n",
        "Sudoku puzzles are grids that have been partially occupied with numbers. The task is then to occupy the remaining fields in such a way that the constraints on rows, columns, and sub-grids are satisfied.\n",
        "For more information about Sudoku refer to its Wikipedia page at http://en.wikipedia.org/wiki/Sudoku.\n",
        "\n",
        "This problem has two parts. In the first part, you will write the boolean constraints in mathematical notation for solving a Sudoku puzzle. In the second part, you will write code and invoke the Z3 solver to solve the Sudoku instance and answer various questions about the solution.\n",
        "\n",
        "## Part 1 (Constraints)\n",
        "In text, define and write constraints over **boolean** variables corresponding to each number being in each cell. For example, you may use $X_{i,j}^k$ as teh variable that is true if and only if the number $k$ is in row $i$ and column $j$ (the variable is true if $k$ is in cell $(i, j)$ and false otherwise). Now write the following boolean constaints over these variables:\n",
        "\n",
        "* Write the boolean formula for the constraints that the number 5 can occur at most once in the first row. **(3 point)**\n",
        "* Write the boolean formula for the constraints that the number 6 can occur at most once in the first column. **(3 point)**\n",
        "* Write the boolean formula for the constraints that the number 9 can occur at most once in the top left 3$\\times$3 sub-grid. **(4 point)**"
      ],
      "metadata": {
        "id": "9J3lpQvP52jm"
      }
    },
    {
      "cell_type": "markdown",
      "source": [
        "Solution:"
      ],
      "metadata": {
        "id": "ju3Q1ewW7aeu"
      }
    },
    {
      "cell_type": "markdown",
      "source": [],
      "metadata": {
        "id": "iFptkI3f5S0I"
      }
    },
    {
      "cell_type": "markdown",
      "source": [
        "## Part 2 (Coding)\n",
        "\n",
        "Encode the above constraints and all the other ones as a CSP using z3py and solve the Sudoku instance given in the figure below. **Use only boolean variables** and do not use the **Distinct** function.\n",
        "\n",
        "* Provide the code to solve that solves the given problem instance using z3py and only boolean variables. The code should output a reasonable visualization of the solution, for example printed in text. **(10 points)**\n",
        "\n",
        "<img src=\"https://raw.githubusercontent.com/stanleybak/CS7320-AI/master/Knowledge-based/sudoku1.jpg\" width=\"400\"/>\n",
        "\n"
      ],
      "metadata": {
        "id": "y7kArKLH7eOR"
      }
    },
    {
      "cell_type": "code",
      "source": [
        "# z3py code to solve above Sudoku goes here. Do not use Int(*), only Bool(*)\n",
        "from z3 import *\n",
        "\n",
        "X = [[[Bool(f'X_{k}_{i}_{j}') for j in range(9)] for i in range(9)] for k in range(1, 10)]\n",
        "\n",
        "s = Solver()\n",
        "# Constraint 1: Each cell (i,j) must contain exactly one number\n",
        "for i in range(9):\n",
        "    for j in range(9):\n",
        "        s.add(Or([X[k][i][j] for k in range(9)]))  # At least one number in cell\n",
        "        for k1 in range(9):\n",
        "            for k2 in range(k1 + 1, 9):\n",
        "                s.add(Not(And(X[k1][i][j], X[k2][i][j])))  # No two numbers in the same cell\n",
        "\n",
        "# Constraint 2: Checking if each number is appearing at most once in a row\n",
        "for i in range(9):\n",
        "    for k in range(9):\n",
        "        for j1 in range(9):\n",
        "            for j2 in range(j1 + 1, 9):\n",
        "                s.add(Not(And(X[k][i][j1], X[k][i][j2])))\n",
        "\n",
        "# Constraint 3: Checks if each number is appearing at most once in a column\n",
        "for j in range(9):\n",
        "    for k in range(9):\n",
        "        for i1 in range(9):\n",
        "            for i2 in range(i1 + 1, 9):\n",
        "                s.add(Not(And(X[k][i1][j], X[k][i2][j])))\n",
        "\n",
        "# Constraint 4: Checks if each number is appearing once in the 3x3 subgrid\n",
        "for block_i in range(3):\n",
        "    for block_j in range(3):\n",
        "        for k in range(9):\n",
        "            cells = []\n",
        "            for i in range(3):\n",
        "                for j in range(3):\n",
        "                    cells.append(X[k][block_i * 3 + i][block_j * 3 + j])\n",
        "            for c1 in range(len(cells)):\n",
        "                for c2 in range(c1 + 1, len(cells)):\n",
        "                    s.add(Not(And(cells[c1], cells[c2])))\n",
        "\n",
        "# Initial Sudoku puzzle\n",
        "puzzle = [\n",
        "    [0,1,0, 4,0,2, 0,5,0],\n",
        "    [5,0,0, 0,0,0, 0,0,6],\n",
        "    [0,0,0, 3,0,1, 0,0,0],\n",
        "    [7,0,5, 0,0,0, 4,0,8],\n",
        "    [0,0,0, 0,0,0, 0,0,0],\n",
        "    [2,0,8, 0,0,0, 5,0,9],\n",
        "    [0,0,0, 9,0,6, 0,0,0],\n",
        "    [6,0,0, 0,0,0, 0,0,2],\n",
        "    [0,7,0, 1,0,3, 0,4,0],\n",
        "]\n",
        "\n",
        "# Add puzzle clues\n",
        "for i in range(9):\n",
        "    for j in range(9):\n",
        "        val = puzzle[i][j]\n",
        "        if val != 0:\n",
        "            s.add(X[val-1][i][j])  # value val is present at (i,j)\n",
        "\n",
        "# Solve the puzzle and display it\n",
        "if s.check() == sat:\n",
        "  m = s.model()\n",
        "  solution = [[0 for _ in range(9)] for _ in range(9)]\n",
        "  for i in range(9):\n",
        "    for j in range(9):\n",
        "      for k in range(9):\n",
        "        if m.evaluate(X[k][i][j]):\n",
        "          solution[i][j] = k + 1\n",
        "\n",
        "  # Print the solution\n",
        "  for i in range(9):\n",
        "    row = ''\n",
        "    for j in range(9):\n",
        "      row += str(solution[i][j]) + ' '\n",
        "      # When a 3x3 is complete put a '|'\n",
        "      if j % 3 == 2 and j != 8:\n",
        "        row += '| '\n",
        "    print(row)\n",
        "    # prints out the lines that will separate the rows\n",
        "    if i % 3 == 2 and i != 8:\n",
        "      print('-'*21)\n",
        "else:\n",
        "  print(\"No solution was found\")\n"
      ],
      "metadata": {
        "id": "UghnVSTS-kJi",
        "colab": {
          "base_uri": "https://localhost:8080/"
        },
        "outputId": "4549dea2-016b-4f8c-db28-e3b9c7221804"
      },
      "execution_count": 1,
      "outputs": [
        {
          "output_type": "stream",
          "name": "stdout",
          "text": [
            "3 1 9 | 4 6 2 | 8 5 7 \n",
            "5 2 4 | 7 9 8 | 1 3 6 \n",
            "8 6 7 | 3 5 1 | 9 2 4 \n",
            "---------------------\n",
            "7 3 5 | 2 1 9 | 4 6 8 \n",
            "1 9 6 | 8 4 5 | 2 7 3 \n",
            "2 4 8 | 6 3 7 | 5 1 9 \n",
            "---------------------\n",
            "4 5 3 | 9 2 6 | 7 8 1 \n",
            "6 8 1 | 5 7 4 | 3 9 2 \n",
            "9 7 2 | 1 8 3 | 6 4 5 \n"
          ]
        }
      ]
    },
    {
      "cell_type": "markdown",
      "source": [
        "### Uniqueness\n",
        "Is your solution unique? Prove it with a Z3py solver or provide a second solution. **(5 points)**"
      ],
      "metadata": {
        "id": "FIkg9eI38VMG"
      }
    },
    {
      "cell_type": "code",
      "source": [
        "'''\n",
        "In order to check if the solution is unique, I added the solition into an array called diff\n",
        "'''\n",
        "if s.check() == sat:\n",
        "    m = s.model()\n",
        "    solution = [[0 for _ in range(9)] for _ in range(9)]\n",
        "    diff_solution = []  # To exclude this solution\n",
        "    for i in range(9):\n",
        "        for j in range(9):\n",
        "            for k in range(9):\n",
        "                val = m.evaluate(X[k][i][j])\n",
        "                if val:\n",
        "                    solution[i][j] = k + 1\n",
        "                    diff_solution.append(Not(X[k][i][j]))\n",
        "    # Print first solution\n",
        "    print(\"First solution:\")\n",
        "    for i in range(9):\n",
        "        row = ''\n",
        "        for j in range(9):\n",
        "            row += str(solution[i][j]) + ' '\n",
        "            if j % 3 == 2 and j != 8:\n",
        "                row += '| '\n",
        "        print(row)\n",
        "        if i % 3 == 2 and i != 8:\n",
        "            print('-'*21)\n",
        "\n",
        "    # Check for uniqueness by excluding this solution\n",
        "    s.push()\n",
        "    s.add(Or(diff_solution))  # At least one cell must differ\n",
        "    if s.check() == sat:\n",
        "        print(\"\\n Another solution exists. The solution is not unique.\")\n",
        "    else:\n",
        "        print(\"\\n The solution is unique. No other valid solution exists.\")\n",
        "    s.pop()\n",
        "else:\n",
        "    print(\"No solution found.\")"
      ],
      "metadata": {
        "id": "-ZacX6gz-4os",
        "colab": {
          "base_uri": "https://localhost:8080/"
        },
        "outputId": "6cf69fa2-0b27-4e9b-e643-8a64478402af"
      },
      "execution_count": 2,
      "outputs": [
        {
          "output_type": "stream",
          "name": "stdout",
          "text": [
            "First solution:\n",
            "3 1 9 | 4 6 2 | 8 5 7 \n",
            "5 2 4 | 7 9 8 | 1 3 6 \n",
            "8 6 7 | 3 5 1 | 9 2 4 \n",
            "---------------------\n",
            "7 3 5 | 2 1 9 | 4 6 8 \n",
            "1 9 6 | 8 4 5 | 2 7 3 \n",
            "2 4 8 | 6 3 7 | 5 1 9 \n",
            "---------------------\n",
            "4 5 3 | 9 2 6 | 7 8 1 \n",
            "6 8 1 | 5 7 4 | 3 9 2 \n",
            "9 7 2 | 1 8 3 | 6 4 5 \n",
            "\n",
            " The solution is unique. No other valid solution exists.\n"
          ]
        }
      ]
    },
    {
      "cell_type": "markdown",
      "source": [
        "### More Uniqueness\n",
        "If you delete the 1 in the top left box of the Sudoku problem above, how many unique solutions are there? Hint: should be fewer than 5000. **(5 points)**"
      ],
      "metadata": {
        "id": "Z6a18s5x-5Hw"
      }
    },
    {
      "cell_type": "code",
      "source": [
        "puzzle2 = [\n",
        "    [0,0,0, 4,0,2, 0,5,0],\n",
        "    [5,0,0, 0,0,0, 0,0,6],\n",
        "    [0,0,0, 3,0,1, 0,0,0],\n",
        "    [7,0,5, 0,0,0, 4,0,8],\n",
        "    [0,0,0, 0,0,0, 0,0,0],\n",
        "    [2,0,8, 0,0,0, 5,0,9],\n",
        "    [0,0,0, 9,0,6, 0,0,0],\n",
        "    [6,0,0, 0,0,0, 0,0,2],\n",
        "    [0,7,0, 1,0,3, 0,4,0],\n",
        "]\n",
        "\n",
        "# Add puzzle clues\n",
        "for i in range(9):\n",
        "    for j in range(9):\n",
        "        val = puzzle2[i][j]\n",
        "        if val != 0:\n",
        "            s.add(X[val-1][i][j])\n",
        "\n",
        "# Count solutions\n",
        "count = 0\n",
        "max_solutions = 5000\n",
        "\n",
        "while count < max_solutions and s.check() == sat:\n",
        "    m = s.model()\n",
        "    diff = []\n",
        "    for i in range(9):\n",
        "        for j in range(9):\n",
        "            for k in range(9):\n",
        "                if m.evaluate(X[k][i][j]):\n",
        "                    diff.append(Not(X[k][i][j]))\n",
        "    s.add(Or(diff))  # exclude this solution\n",
        "    count += 1\n",
        "    if count % 100 == 0:\n",
        "        print(f\"{count} solutions found...\")\n",
        "\n",
        "print(f\"\\n✅ Total number of unique solutions: {count}\")"
      ],
      "metadata": {
        "id": "5_2fNgND_CB4",
        "colab": {
          "base_uri": "https://localhost:8080/"
        },
        "outputId": "7a0ba4a7-6dd5-4eea-8885-c60d1be5e203"
      },
      "execution_count": 3,
      "outputs": [
        {
          "output_type": "stream",
          "name": "stdout",
          "text": [
            "\n",
            "✅ Total number of unique solutions: 1\n"
          ]
        }
      ]
    },
    {
      "cell_type": "markdown",
      "source": [
        "# Miracle Sudoku\n",
        "\n",
        "Using z3py and only boolean variables, solve the Miracle Sudoku ([spoiler](https://www.youtube.com/watch?v=yKf9aUIxdb4)).\n",
        "In this puzzle normal Sudoku rules apply in addition to the following rules:\n",
        "* Any two cells separated by a knight's move from chess (moving forward two boxes and over one, in any direction) cannot contain the same digit (see image below).\n",
        "* Any two cells separated by a king's move from chess (one box in any direction including diagonals) cannot contain the same digit.\n",
        "* Any two orthogonally adjacent (up, down, left, or right) cells cannot contain consecutive digits."
      ],
      "metadata": {
        "id": "6nF9g7Ca_SJ1"
      }
    },
    {
      "cell_type": "markdown",
      "source": [
        "### Knight's move constraint image\n",
        "<img src=\"https://raw.githubusercontent.com/stanleybak/CS7320-AI/master/Knowledge-based/knights.jpg\" width=\"400\"/>\n",
        "\n",
        "The knight's move constraint would mean the yellow boxes cannot contain a 1.\n"
      ],
      "metadata": {
        "id": "wwjCVYCiAKXq"
      }
    },
    {
      "cell_type": "markdown",
      "source": [
        "## Miracle Sudoku Starting Information\n",
        "Provide the code to solve the puzzle given below. The code should output a reasonable visualization of the solution, for example using text. **(10 points)**\n",
        "\n",
        "<img src=\"https://raw.githubusercontent.com/stanleybak/CS7320-AI/master/Knowledge-based/miracle.jpg\" width=\"400\"/>"
      ],
      "metadata": {
        "id": "S9P6BThtAMv3"
      }
    },
    {
      "cell_type": "code",
      "source": [
        "# Solution code for Miracle Sudoku using z3py\n",
        "from z3 import *\n",
        "\n"
      ],
      "metadata": {
        "id": "E56fFoT7CqpY"
      },
      "execution_count": null,
      "outputs": []
    },
    {
      "cell_type": "markdown",
      "source": [
        "---\n",
        "# Number Challenge in Z3py\n",
        "\n",
        "Write Z3py code to solve the Number Challenge puzzle shown below and print the solution found. You can use the `Int` type to create integer variables in z3py. **(20 points)**\n",
        "\n",
        "<img src=\"https://raw.githubusercontent.com/stanleybak/CS7320-AI/master/Knowledge-based/chal.jpg\" width=\"300\"/>"
      ],
      "metadata": {
        "id": "Pjlb4qe5XAGF"
      }
    },
    {
      "cell_type": "code",
      "source": [
        "# Write your solution code for Number Challenge using z3py\n",
        "from z3 import *\n",
        "\n",
        "# example using Int type (feel free to delete)\n",
        "s = Solver()\n",
        "\n",
        "x = Int('x')\n",
        "y = Int('y')\n",
        "\n",
        "s.add((2*y) + x == 20)\n",
        "s.add(x - y == 2)\n",
        "\n",
        "if s.check() == sat:\n",
        "    print(\"sat\")\n",
        "    m = s.model()\n",
        "    print(f\"model: {m}\")\n",
        "\n",
        "    print(f\"x: {x}\")\n",
        "    print(f\"y: {y}\")\n",
        "else:\n",
        "    print(\"unsat\")"
      ],
      "metadata": {
        "id": "zsQCwxTbY5Sg",
        "outputId": "46b9c09f-8c21-4ae6-be7f-d5279a5c63d9",
        "colab": {
          "base_uri": "https://localhost:8080/"
        }
      },
      "execution_count": null,
      "outputs": [
        {
          "output_type": "stream",
          "name": "stdout",
          "text": [
            "sat\n",
            "model: [y = 6, x = 8]\n",
            "x: x\n",
            "y: y\n"
          ]
        }
      ]
    },
    {
      "cell_type": "markdown",
      "source": [
        "\n",
        "\n",
        "\n",
        "---\n",
        "\n",
        "\n",
        "# Propositional Logic\n",
        "\n",
        "Next, we will use truth tables and z3py to prove logical entailment.\n",
        "\n",
        "## Truth Tables\n",
        "\n",
        "Using markdown tables and bold to show relevant rows, use the truth table method to show logical truths.\n",
        "\n",
        "\n",
        "### Example\n",
        "\n",
        "Here's an example that shows $p, p \\rightarrow q \\models q$.  \n",
        "\n",
        "| p | q | p -> q |\n",
        "|-------|-------|---------------------|\n",
        "| **T**     | **T**     | **T**                   |\n",
        "| T     | F     | F                   |\n",
        "| F     | T     | T                   |\n",
        "| F     | F     | T                   |\n",
        "\n",
        "Since $q$ is true whenever $p$ and $p \\rightarrow q$ are true, the expression is true.\n",
        "\n",
        "### Questions\n",
        "\n",
        "Prove that the following semantic entailment expressions are true by using the truth table approach.  Bold the appropriate rows **(7 point)**\n",
        "\n",
        " * $(p\\rightarrow q)\\rightarrow r, s \\rightarrow \\neg p, t, \\neg s, t \\rightarrow q \\models r$\n",
        " * $\\emptyset \\models q \\rightarrow (p \\rightarrow (p \\rightarrow (q \\rightarrow p)))$"
      ],
      "metadata": {
        "id": "sy985abkCrfR"
      }
    },
    {
      "cell_type": "markdown",
      "source": [
        "(add markdown tables here)"
      ],
      "metadata": {
        "id": "wyZsntivFueN"
      }
    },
    {
      "cell_type": "markdown",
      "source": [
        "\n",
        "\n",
        "---\n",
        "\n",
        "\n",
        " ## Logical Entailment using z3py\n",
        "\n",
        " Use Z3py to prove the above two entailments are true using satisfiability. See section 7.5 in the book for details. **(8 points)**"
      ],
      "metadata": {
        "id": "q7le6n2jFu4l"
      }
    },
    {
      "cell_type": "code",
      "source": [
        "# answer code here"
      ],
      "metadata": {
        "id": "Z80-O6FGDtjp"
      },
      "execution_count": null,
      "outputs": []
    }
  ],
  "metadata": {
    "kernelspec": {
      "display_name": "Python 3",
      "language": "python",
      "name": "python3"
    },
    "language_info": {
      "codemirror_mode": {
        "name": "ipython",
        "version": 3
      },
      "file_extension": ".py",
      "mimetype": "text/x-python",
      "name": "python",
      "nbconvert_exporter": "python",
      "pygments_lexer": "ipython3",
      "version": "3.8.5"
    },
    "colab": {
      "provenance": []
    }
  },
  "nbformat": 4,
  "nbformat_minor": 0
}